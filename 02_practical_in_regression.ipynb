{
 "cells": [
  {
   "cell_type": "markdown",
   "metadata": {},
   "source": [
    "# Objective\n",
    "### Build a machine learning model to precict Biological activity (pIC50) against BRD4.\n",
    "\n",
    "# Data: \n",
    "### Compounds with known biological activity against BRD4. \n",
    "\n",
    "# Assay: \n",
    "### Fluorescence Polarization \n",
    "\n",
    "# Endpoint: \n",
    "### pIC50 \n",
    "\n",
    "# Variables: \n",
    "### PhysicochemicalDescriptors\n",
    "\n",
    "# Method: \n",
    "### Linear Multivariate Regression\n",
    "\n",
    "#### Data information: http://www.ippidb.cdithem.fr"
   ]
  },
  {
   "cell_type": "code",
   "execution_count": 1,
   "metadata": {},
   "outputs": [],
   "source": [
    "#Import libraries\n",
    "import pandas as pd\n",
    "import numpy as np\n",
    "\n",
    "import matplotlib.pyplot as plt\n",
    "import seaborn as sns\n",
    "%matplotlib inline"
   ]
  },
  {
   "cell_type": "markdown",
   "metadata": {},
   "source": [
    "### Load data"
   ]
  },
  {
   "cell_type": "code",
   "execution_count": 2,
   "metadata": {},
   "outputs": [],
   "source": [
    "Data = pd.read_csv(\"data/Bromodomain_Histone.csv\")"
   ]
  },
  {
   "cell_type": "code",
   "execution_count": 3,
   "metadata": {},
   "outputs": [
    {
     "data": {
      "text/html": [
       "<div>\n",
       "<style scoped>\n",
       "    .dataframe tbody tr th:only-of-type {\n",
       "        vertical-align: middle;\n",
       "    }\n",
       "\n",
       "    .dataframe tbody tr th {\n",
       "        vertical-align: top;\n",
       "    }\n",
       "\n",
       "    .dataframe thead th {\n",
       "        text-align: right;\n",
       "    }\n",
       "</style>\n",
       "<table border=\"1\" class=\"dataframe\">\n",
       "  <thead>\n",
       "    <tr style=\"text-align: right;\">\n",
       "      <th></th>\n",
       "      <th>Compound's ID</th>\n",
       "      <th>CanonicalSmile</th>\n",
       "      <th>Target's bound names</th>\n",
       "      <th>Target's bound's uniprot</th>\n",
       "      <th>Test name</th>\n",
       "      <th>Activity type</th>\n",
       "      <th>Activity</th>\n",
       "      <th>Molecular weight</th>\n",
       "      <th>ALogP</th>\n",
       "      <th>Number of H-bond donor</th>\n",
       "      <th>Number of H-bond acceptor</th>\n",
       "      <th>Topological surface area</th>\n",
       "      <th>Number of rotatable bond</th>\n",
       "      <th>Number of aromatic ring</th>\n",
       "      <th>Number of Carbon sp3 / Number of Carbon</th>\n",
       "      <th>Number of chiral centers</th>\n",
       "      <th>Ligand efficiency</th>\n",
       "      <th>Lipophilic efficiency</th>\n",
       "    </tr>\n",
       "  </thead>\n",
       "  <tbody>\n",
       "    <tr>\n",
       "      <th>0</th>\n",
       "      <td>1603</td>\n",
       "      <td>CCNC(=O)C[C@@H]1N=C(c2ccc(Cl)cc2)c2cc(OC)ccc2-...</td>\n",
       "      <td>BRD4</td>\n",
       "      <td>O60885</td>\n",
       "      <td>Fluorescence Polarization</td>\n",
       "      <td>pIC50</td>\n",
       "      <td>6.2</td>\n",
       "      <td>423.15</td>\n",
       "      <td>1.76</td>\n",
       "      <td>1</td>\n",
       "      <td>7</td>\n",
       "      <td>81.40</td>\n",
       "      <td>5</td>\n",
       "      <td>3</td>\n",
       "      <td>0.27</td>\n",
       "      <td>1</td>\n",
       "      <td>0.28</td>\n",
       "      <td>4.44</td>\n",
       "    </tr>\n",
       "    <tr>\n",
       "      <th>1</th>\n",
       "      <td>1604</td>\n",
       "      <td>COc1cc2c3n([C@H](C)c4ccccn4)c(=O)[nH]c3cnc2cc1...</td>\n",
       "      <td>BRD4</td>\n",
       "      <td>O60885</td>\n",
       "      <td>Fluorescence Polarization</td>\n",
       "      <td>pIC50</td>\n",
       "      <td>6.1</td>\n",
       "      <td>415.16</td>\n",
       "      <td>2.69</td>\n",
       "      <td>1</td>\n",
       "      <td>8</td>\n",
       "      <td>93.38</td>\n",
       "      <td>3</td>\n",
       "      <td>5</td>\n",
       "      <td>0.22</td>\n",
       "      <td>1</td>\n",
       "      <td>0.27</td>\n",
       "      <td>3.41</td>\n",
       "    </tr>\n",
       "    <tr>\n",
       "      <th>2</th>\n",
       "      <td>1605</td>\n",
       "      <td>CC(=O)c1cc(-c2ccccn2)c2ccccn12</td>\n",
       "      <td>BRD4</td>\n",
       "      <td>O60885</td>\n",
       "      <td>Fluorescence Polarization</td>\n",
       "      <td>pIC50</td>\n",
       "      <td>5.0</td>\n",
       "      <td>236.09</td>\n",
       "      <td>1.90</td>\n",
       "      <td>0</td>\n",
       "      <td>3</td>\n",
       "      <td>34.37</td>\n",
       "      <td>2</td>\n",
       "      <td>3</td>\n",
       "      <td>0.07</td>\n",
       "      <td>0</td>\n",
       "      <td>0.38</td>\n",
       "      <td>3.10</td>\n",
       "    </tr>\n",
       "    <tr>\n",
       "      <th>3</th>\n",
       "      <td>1606</td>\n",
       "      <td>Cc1noc(C)c1-c1ccc(C)c(c1)S(=O)(=O)NC1CC1</td>\n",
       "      <td>BRD4</td>\n",
       "      <td>O60885</td>\n",
       "      <td>Fluorescence Polarization</td>\n",
       "      <td>pIC50</td>\n",
       "      <td>5.7</td>\n",
       "      <td>306.10</td>\n",
       "      <td>2.12</td>\n",
       "      <td>1</td>\n",
       "      <td>5</td>\n",
       "      <td>72.20</td>\n",
       "      <td>3</td>\n",
       "      <td>2</td>\n",
       "      <td>0.40</td>\n",
       "      <td>0</td>\n",
       "      <td>0.37</td>\n",
       "      <td>3.58</td>\n",
       "    </tr>\n",
       "    <tr>\n",
       "      <th>4</th>\n",
       "      <td>1607</td>\n",
       "      <td>COc1ccc(cc1S(=O)(=O)NC1CC1)-c1c(C)noc1C</td>\n",
       "      <td>BRD4</td>\n",
       "      <td>O60885</td>\n",
       "      <td>Fluorescence Polarization</td>\n",
       "      <td>pIC50</td>\n",
       "      <td>5.5</td>\n",
       "      <td>322.10</td>\n",
       "      <td>1.45</td>\n",
       "      <td>1</td>\n",
       "      <td>6</td>\n",
       "      <td>81.43</td>\n",
       "      <td>4</td>\n",
       "      <td>2</td>\n",
       "      <td>0.40</td>\n",
       "      <td>0</td>\n",
       "      <td>0.34</td>\n",
       "      <td>4.05</td>\n",
       "    </tr>\n",
       "  </tbody>\n",
       "</table>\n",
       "</div>"
      ],
      "text/plain": [
       "   Compound's ID                                     CanonicalSmile  \\\n",
       "0           1603  CCNC(=O)C[C@@H]1N=C(c2ccc(Cl)cc2)c2cc(OC)ccc2-...   \n",
       "1           1604  COc1cc2c3n([C@H](C)c4ccccn4)c(=O)[nH]c3cnc2cc1...   \n",
       "2           1605                     CC(=O)c1cc(-c2ccccn2)c2ccccn12   \n",
       "3           1606           Cc1noc(C)c1-c1ccc(C)c(c1)S(=O)(=O)NC1CC1   \n",
       "4           1607            COc1ccc(cc1S(=O)(=O)NC1CC1)-c1c(C)noc1C   \n",
       "\n",
       "  Target's bound names Target's bound's uniprot                  Test name  \\\n",
       "0                 BRD4                   O60885  Fluorescence Polarization   \n",
       "1                 BRD4                   O60885  Fluorescence Polarization   \n",
       "2                 BRD4                   O60885  Fluorescence Polarization   \n",
       "3                 BRD4                   O60885  Fluorescence Polarization   \n",
       "4                 BRD4                   O60885  Fluorescence Polarization   \n",
       "\n",
       "  Activity type  Activity  Molecular weight  ALogP  Number of H-bond donor  \\\n",
       "0         pIC50       6.2            423.15   1.76                       1   \n",
       "1         pIC50       6.1            415.16   2.69                       1   \n",
       "2         pIC50       5.0            236.09   1.90                       0   \n",
       "3         pIC50       5.7            306.10   2.12                       1   \n",
       "4         pIC50       5.5            322.10   1.45                       1   \n",
       "\n",
       "   Number of H-bond acceptor  Topological surface area  \\\n",
       "0                          7                     81.40   \n",
       "1                          8                     93.38   \n",
       "2                          3                     34.37   \n",
       "3                          5                     72.20   \n",
       "4                          6                     81.43   \n",
       "\n",
       "   Number of rotatable bond  Number of aromatic ring  \\\n",
       "0                         5                        3   \n",
       "1                         3                        5   \n",
       "2                         2                        3   \n",
       "3                         3                        2   \n",
       "4                         4                        2   \n",
       "\n",
       "   Number of Carbon sp3 / Number of Carbon  Number of chiral centers  \\\n",
       "0                                     0.27                         1   \n",
       "1                                     0.22                         1   \n",
       "2                                     0.07                         0   \n",
       "3                                     0.40                         0   \n",
       "4                                     0.40                         0   \n",
       "\n",
       "   Ligand efficiency  Lipophilic efficiency  \n",
       "0               0.28                   4.44  \n",
       "1               0.27                   3.41  \n",
       "2               0.38                   3.10  \n",
       "3               0.37                   3.58  \n",
       "4               0.34                   4.05  "
      ]
     },
     "execution_count": 3,
     "metadata": {},
     "output_type": "execute_result"
    }
   ],
   "source": [
    "Data.head()"
   ]
  },
  {
   "cell_type": "code",
   "execution_count": 4,
   "metadata": {},
   "outputs": [
    {
     "data": {
      "text/plain": [
       "array(['Fluorescence Polarization'], dtype=object)"
      ]
     },
     "execution_count": 4,
     "metadata": {},
     "output_type": "execute_result"
    }
   ],
   "source": [
    "Data[\"Test name\"].unique()"
   ]
  },
  {
   "cell_type": "code",
   "execution_count": 5,
   "metadata": {},
   "outputs": [
    {
     "data": {
      "text/plain": [
       "array(['pIC50'], dtype=object)"
      ]
     },
     "execution_count": 5,
     "metadata": {},
     "output_type": "execute_result"
    }
   ],
   "source": [
    "Data[\"Activity type\"].unique()"
   ]
  },
  {
   "cell_type": "markdown",
   "metadata": {},
   "source": [
    "### Exploratory Data Analysis"
   ]
  },
  {
   "cell_type": "code",
   "execution_count": 6,
   "metadata": {},
   "outputs": [
    {
     "data": {
      "text/html": [
       "<div>\n",
       "<style scoped>\n",
       "    .dataframe tbody tr th:only-of-type {\n",
       "        vertical-align: middle;\n",
       "    }\n",
       "\n",
       "    .dataframe tbody tr th {\n",
       "        vertical-align: top;\n",
       "    }\n",
       "\n",
       "    .dataframe thead th {\n",
       "        text-align: right;\n",
       "    }\n",
       "</style>\n",
       "<table border=\"1\" class=\"dataframe\">\n",
       "  <thead>\n",
       "    <tr style=\"text-align: right;\">\n",
       "      <th></th>\n",
       "      <th>Compound's ID</th>\n",
       "      <th>Activity</th>\n",
       "      <th>Molecular weight</th>\n",
       "      <th>ALogP</th>\n",
       "      <th>Number of H-bond donor</th>\n",
       "      <th>Number of H-bond acceptor</th>\n",
       "      <th>Topological surface area</th>\n",
       "      <th>Number of rotatable bond</th>\n",
       "      <th>Number of aromatic ring</th>\n",
       "      <th>Number of Carbon sp3 / Number of Carbon</th>\n",
       "      <th>Number of chiral centers</th>\n",
       "      <th>Ligand efficiency</th>\n",
       "      <th>Lipophilic efficiency</th>\n",
       "    </tr>\n",
       "  </thead>\n",
       "  <tbody>\n",
       "    <tr>\n",
       "      <th>count</th>\n",
       "      <td>40.000000</td>\n",
       "      <td>40.000000</td>\n",
       "      <td>40.000000</td>\n",
       "      <td>40.000000</td>\n",
       "      <td>40.000000</td>\n",
       "      <td>40.000000</td>\n",
       "      <td>40.000000</td>\n",
       "      <td>40.000000</td>\n",
       "      <td>40.000000</td>\n",
       "      <td>40.000000</td>\n",
       "      <td>40.000000</td>\n",
       "      <td>40.000000</td>\n",
       "      <td>40.000000</td>\n",
       "    </tr>\n",
       "    <tr>\n",
       "      <th>mean</th>\n",
       "      <td>1623.550000</td>\n",
       "      <td>5.245000</td>\n",
       "      <td>355.043500</td>\n",
       "      <td>2.463250</td>\n",
       "      <td>0.925000</td>\n",
       "      <td>5.825000</td>\n",
       "      <td>77.933250</td>\n",
       "      <td>3.850000</td>\n",
       "      <td>2.500000</td>\n",
       "      <td>0.335250</td>\n",
       "      <td>0.075000</td>\n",
       "      <td>0.297250</td>\n",
       "      <td>2.781750</td>\n",
       "    </tr>\n",
       "    <tr>\n",
       "      <th>std</th>\n",
       "      <td>12.957425</td>\n",
       "      <td>0.431426</td>\n",
       "      <td>43.940138</td>\n",
       "      <td>0.902539</td>\n",
       "      <td>0.525625</td>\n",
       "      <td>1.009887</td>\n",
       "      <td>10.338658</td>\n",
       "      <td>1.291987</td>\n",
       "      <td>0.640513</td>\n",
       "      <td>0.140256</td>\n",
       "      <td>0.266747</td>\n",
       "      <td>0.042061</td>\n",
       "      <td>0.942925</td>\n",
       "    </tr>\n",
       "    <tr>\n",
       "      <th>min</th>\n",
       "      <td>1603.000000</td>\n",
       "      <td>4.500000</td>\n",
       "      <td>236.090000</td>\n",
       "      <td>0.680000</td>\n",
       "      <td>0.000000</td>\n",
       "      <td>3.000000</td>\n",
       "      <td>34.370000</td>\n",
       "      <td>2.000000</td>\n",
       "      <td>2.000000</td>\n",
       "      <td>0.070000</td>\n",
       "      <td>0.000000</td>\n",
       "      <td>0.230000</td>\n",
       "      <td>0.980000</td>\n",
       "    </tr>\n",
       "    <tr>\n",
       "      <th>25%</th>\n",
       "      <td>1612.750000</td>\n",
       "      <td>4.900000</td>\n",
       "      <td>331.632500</td>\n",
       "      <td>1.650000</td>\n",
       "      <td>1.000000</td>\n",
       "      <td>5.000000</td>\n",
       "      <td>72.200000</td>\n",
       "      <td>3.000000</td>\n",
       "      <td>2.000000</td>\n",
       "      <td>0.210000</td>\n",
       "      <td>0.000000</td>\n",
       "      <td>0.260000</td>\n",
       "      <td>2.115000</td>\n",
       "    </tr>\n",
       "    <tr>\n",
       "      <th>50%</th>\n",
       "      <td>1623.500000</td>\n",
       "      <td>5.200000</td>\n",
       "      <td>354.115000</td>\n",
       "      <td>2.495000</td>\n",
       "      <td>1.000000</td>\n",
       "      <td>6.000000</td>\n",
       "      <td>77.020000</td>\n",
       "      <td>3.500000</td>\n",
       "      <td>2.000000</td>\n",
       "      <td>0.360000</td>\n",
       "      <td>0.000000</td>\n",
       "      <td>0.290000</td>\n",
       "      <td>2.975000</td>\n",
       "    </tr>\n",
       "    <tr>\n",
       "      <th>75%</th>\n",
       "      <td>1633.250000</td>\n",
       "      <td>5.525000</td>\n",
       "      <td>376.060000</td>\n",
       "      <td>3.160000</td>\n",
       "      <td>1.000000</td>\n",
       "      <td>6.000000</td>\n",
       "      <td>81.540000</td>\n",
       "      <td>5.000000</td>\n",
       "      <td>3.000000</td>\n",
       "      <td>0.440000</td>\n",
       "      <td>0.000000</td>\n",
       "      <td>0.330000</td>\n",
       "      <td>3.452500</td>\n",
       "    </tr>\n",
       "    <tr>\n",
       "      <th>max</th>\n",
       "      <td>1647.000000</td>\n",
       "      <td>6.200000</td>\n",
       "      <td>463.210000</td>\n",
       "      <td>4.120000</td>\n",
       "      <td>2.000000</td>\n",
       "      <td>8.000000</td>\n",
       "      <td>96.700000</td>\n",
       "      <td>8.000000</td>\n",
       "      <td>5.000000</td>\n",
       "      <td>0.610000</td>\n",
       "      <td>1.000000</td>\n",
       "      <td>0.380000</td>\n",
       "      <td>4.440000</td>\n",
       "    </tr>\n",
       "  </tbody>\n",
       "</table>\n",
       "</div>"
      ],
      "text/plain": [
       "       Compound's ID   Activity  Molecular weight      ALogP  \\\n",
       "count      40.000000  40.000000         40.000000  40.000000   \n",
       "mean     1623.550000   5.245000        355.043500   2.463250   \n",
       "std        12.957425   0.431426         43.940138   0.902539   \n",
       "min      1603.000000   4.500000        236.090000   0.680000   \n",
       "25%      1612.750000   4.900000        331.632500   1.650000   \n",
       "50%      1623.500000   5.200000        354.115000   2.495000   \n",
       "75%      1633.250000   5.525000        376.060000   3.160000   \n",
       "max      1647.000000   6.200000        463.210000   4.120000   \n",
       "\n",
       "       Number of H-bond donor  Number of H-bond acceptor  \\\n",
       "count               40.000000                  40.000000   \n",
       "mean                 0.925000                   5.825000   \n",
       "std                  0.525625                   1.009887   \n",
       "min                  0.000000                   3.000000   \n",
       "25%                  1.000000                   5.000000   \n",
       "50%                  1.000000                   6.000000   \n",
       "75%                  1.000000                   6.000000   \n",
       "max                  2.000000                   8.000000   \n",
       "\n",
       "       Topological surface area  Number of rotatable bond  \\\n",
       "count                 40.000000                 40.000000   \n",
       "mean                  77.933250                  3.850000   \n",
       "std                   10.338658                  1.291987   \n",
       "min                   34.370000                  2.000000   \n",
       "25%                   72.200000                  3.000000   \n",
       "50%                   77.020000                  3.500000   \n",
       "75%                   81.540000                  5.000000   \n",
       "max                   96.700000                  8.000000   \n",
       "\n",
       "       Number of aromatic ring  Number of Carbon sp3 / Number of Carbon  \\\n",
       "count                40.000000                                40.000000   \n",
       "mean                  2.500000                                 0.335250   \n",
       "std                   0.640513                                 0.140256   \n",
       "min                   2.000000                                 0.070000   \n",
       "25%                   2.000000                                 0.210000   \n",
       "50%                   2.000000                                 0.360000   \n",
       "75%                   3.000000                                 0.440000   \n",
       "max                   5.000000                                 0.610000   \n",
       "\n",
       "       Number of chiral centers  Ligand efficiency  Lipophilic efficiency  \n",
       "count                 40.000000          40.000000              40.000000  \n",
       "mean                   0.075000           0.297250               2.781750  \n",
       "std                    0.266747           0.042061               0.942925  \n",
       "min                    0.000000           0.230000               0.980000  \n",
       "25%                    0.000000           0.260000               2.115000  \n",
       "50%                    0.000000           0.290000               2.975000  \n",
       "75%                    0.000000           0.330000               3.452500  \n",
       "max                    1.000000           0.380000               4.440000  "
      ]
     },
     "execution_count": 6,
     "metadata": {},
     "output_type": "execute_result"
    }
   ],
   "source": [
    "#Statistical descriptin of numerical data\n",
    "Data.describe()"
   ]
  },
  {
   "cell_type": "code",
   "execution_count": 7,
   "metadata": {},
   "outputs": [
    {
     "data": {
      "text/plain": [
       "Index(['Compound's ID', 'CanonicalSmile', 'Target's bound names',\n",
       "       'Target's bound's uniprot', 'Test name', 'Activity type', 'Activity',\n",
       "       'Molecular weight', 'ALogP', 'Number of H-bond donor',\n",
       "       'Number of H-bond acceptor', 'Topological surface area',\n",
       "       'Number of rotatable bond', 'Number of aromatic ring',\n",
       "       'Number of Carbon sp3 / Number of Carbon', 'Number of chiral centers',\n",
       "       'Ligand efficiency', 'Lipophilic efficiency'],\n",
       "      dtype='object')"
      ]
     },
     "execution_count": 7,
     "metadata": {},
     "output_type": "execute_result"
    }
   ],
   "source": [
    "#column names\n",
    "Data.columns"
   ]
  },
  {
   "cell_type": "code",
   "execution_count": 8,
   "metadata": {},
   "outputs": [
    {
     "data": {
      "text/plain": [
       "Compound's ID                                int64\n",
       "CanonicalSmile                              object\n",
       "Target's bound names                        object\n",
       "Target's bound's uniprot                    object\n",
       "Test name                                   object\n",
       "Activity type                               object\n",
       "Activity                                   float64\n",
       "Molecular weight                           float64\n",
       "ALogP                                      float64\n",
       "Number of H-bond donor                       int64\n",
       "Number of H-bond acceptor                    int64\n",
       "Topological surface area                   float64\n",
       "Number of rotatable bond                     int64\n",
       "Number of aromatic ring                      int64\n",
       "Number of Carbon sp3 / Number of Carbon    float64\n",
       "Number of chiral centers                     int64\n",
       "Ligand efficiency                          float64\n",
       "Lipophilic efficiency                      float64\n",
       "dtype: object"
      ]
     },
     "execution_count": 8,
     "metadata": {},
     "output_type": "execute_result"
    }
   ],
   "source": [
    "#Numerical types\n",
    "Data.dtypes"
   ]
  },
  {
   "cell_type": "code",
   "execution_count": 9,
   "metadata": {},
   "outputs": [
    {
     "data": {
      "text/html": [
       "<div>\n",
       "<style scoped>\n",
       "    .dataframe tbody tr th:only-of-type {\n",
       "        vertical-align: middle;\n",
       "    }\n",
       "\n",
       "    .dataframe tbody tr th {\n",
       "        vertical-align: top;\n",
       "    }\n",
       "\n",
       "    .dataframe thead th {\n",
       "        text-align: right;\n",
       "    }\n",
       "</style>\n",
       "<table border=\"1\" class=\"dataframe\">\n",
       "  <thead>\n",
       "    <tr style=\"text-align: right;\">\n",
       "      <th></th>\n",
       "      <th>Compound's ID</th>\n",
       "      <th>Activity</th>\n",
       "      <th>Molecular weight</th>\n",
       "      <th>ALogP</th>\n",
       "      <th>Number of H-bond donor</th>\n",
       "      <th>Number of H-bond acceptor</th>\n",
       "      <th>Topological surface area</th>\n",
       "      <th>Number of rotatable bond</th>\n",
       "      <th>Number of aromatic ring</th>\n",
       "      <th>Number of Carbon sp3 / Number of Carbon</th>\n",
       "      <th>Number of chiral centers</th>\n",
       "      <th>Ligand efficiency</th>\n",
       "      <th>Lipophilic efficiency</th>\n",
       "    </tr>\n",
       "  </thead>\n",
       "  <tbody>\n",
       "    <tr>\n",
       "      <th>0</th>\n",
       "      <td>1603</td>\n",
       "      <td>6.2</td>\n",
       "      <td>423.15</td>\n",
       "      <td>1.76</td>\n",
       "      <td>1</td>\n",
       "      <td>7</td>\n",
       "      <td>81.40</td>\n",
       "      <td>5</td>\n",
       "      <td>3</td>\n",
       "      <td>0.27</td>\n",
       "      <td>1</td>\n",
       "      <td>0.28</td>\n",
       "      <td>4.44</td>\n",
       "    </tr>\n",
       "    <tr>\n",
       "      <th>1</th>\n",
       "      <td>1604</td>\n",
       "      <td>6.1</td>\n",
       "      <td>415.16</td>\n",
       "      <td>2.69</td>\n",
       "      <td>1</td>\n",
       "      <td>8</td>\n",
       "      <td>93.38</td>\n",
       "      <td>3</td>\n",
       "      <td>5</td>\n",
       "      <td>0.22</td>\n",
       "      <td>1</td>\n",
       "      <td>0.27</td>\n",
       "      <td>3.41</td>\n",
       "    </tr>\n",
       "    <tr>\n",
       "      <th>2</th>\n",
       "      <td>1605</td>\n",
       "      <td>5.0</td>\n",
       "      <td>236.09</td>\n",
       "      <td>1.90</td>\n",
       "      <td>0</td>\n",
       "      <td>3</td>\n",
       "      <td>34.37</td>\n",
       "      <td>2</td>\n",
       "      <td>3</td>\n",
       "      <td>0.07</td>\n",
       "      <td>0</td>\n",
       "      <td>0.38</td>\n",
       "      <td>3.10</td>\n",
       "    </tr>\n",
       "    <tr>\n",
       "      <th>3</th>\n",
       "      <td>1606</td>\n",
       "      <td>5.7</td>\n",
       "      <td>306.10</td>\n",
       "      <td>2.12</td>\n",
       "      <td>1</td>\n",
       "      <td>5</td>\n",
       "      <td>72.20</td>\n",
       "      <td>3</td>\n",
       "      <td>2</td>\n",
       "      <td>0.40</td>\n",
       "      <td>0</td>\n",
       "      <td>0.37</td>\n",
       "      <td>3.58</td>\n",
       "    </tr>\n",
       "    <tr>\n",
       "      <th>4</th>\n",
       "      <td>1607</td>\n",
       "      <td>5.5</td>\n",
       "      <td>322.10</td>\n",
       "      <td>1.45</td>\n",
       "      <td>1</td>\n",
       "      <td>6</td>\n",
       "      <td>81.43</td>\n",
       "      <td>4</td>\n",
       "      <td>2</td>\n",
       "      <td>0.40</td>\n",
       "      <td>0</td>\n",
       "      <td>0.34</td>\n",
       "      <td>4.05</td>\n",
       "    </tr>\n",
       "  </tbody>\n",
       "</table>\n",
       "</div>"
      ],
      "text/plain": [
       "   Compound's ID  Activity  Molecular weight  ALogP  Number of H-bond donor  \\\n",
       "0           1603       6.2            423.15   1.76                       1   \n",
       "1           1604       6.1            415.16   2.69                       1   \n",
       "2           1605       5.0            236.09   1.90                       0   \n",
       "3           1606       5.7            306.10   2.12                       1   \n",
       "4           1607       5.5            322.10   1.45                       1   \n",
       "\n",
       "   Number of H-bond acceptor  Topological surface area  \\\n",
       "0                          7                     81.40   \n",
       "1                          8                     93.38   \n",
       "2                          3                     34.37   \n",
       "3                          5                     72.20   \n",
       "4                          6                     81.43   \n",
       "\n",
       "   Number of rotatable bond  Number of aromatic ring  \\\n",
       "0                         5                        3   \n",
       "1                         3                        5   \n",
       "2                         2                        3   \n",
       "3                         3                        2   \n",
       "4                         4                        2   \n",
       "\n",
       "   Number of Carbon sp3 / Number of Carbon  Number of chiral centers  \\\n",
       "0                                     0.27                         1   \n",
       "1                                     0.22                         1   \n",
       "2                                     0.07                         0   \n",
       "3                                     0.40                         0   \n",
       "4                                     0.40                         0   \n",
       "\n",
       "   Ligand efficiency  Lipophilic efficiency  \n",
       "0               0.28                   4.44  \n",
       "1               0.27                   3.41  \n",
       "2               0.38                   3.10  \n",
       "3               0.37                   3.58  \n",
       "4               0.34                   4.05  "
      ]
     },
     "execution_count": 9,
     "metadata": {},
     "output_type": "execute_result"
    }
   ],
   "source": [
    "#Select numerical descriptors\n",
    "Data.select_dtypes(include=['float64', 'int64']).head()"
   ]
  },
  {
   "cell_type": "code",
   "execution_count": 10,
   "metadata": {},
   "outputs": [
    {
     "data": {
      "text/html": [
       "<div>\n",
       "<style scoped>\n",
       "    .dataframe tbody tr th:only-of-type {\n",
       "        vertical-align: middle;\n",
       "    }\n",
       "\n",
       "    .dataframe tbody tr th {\n",
       "        vertical-align: top;\n",
       "    }\n",
       "\n",
       "    .dataframe thead th {\n",
       "        text-align: right;\n",
       "    }\n",
       "</style>\n",
       "<table border=\"1\" class=\"dataframe\">\n",
       "  <thead>\n",
       "    <tr style=\"text-align: right;\">\n",
       "      <th></th>\n",
       "      <th>Compound's ID</th>\n",
       "      <th>Activity</th>\n",
       "      <th>Molecular weight</th>\n",
       "      <th>ALogP</th>\n",
       "      <th>Number of H-bond donor</th>\n",
       "      <th>Number of H-bond acceptor</th>\n",
       "      <th>Topological surface area</th>\n",
       "      <th>Number of rotatable bond</th>\n",
       "      <th>Number of aromatic ring</th>\n",
       "      <th>Number of Carbon sp3 / Number of Carbon</th>\n",
       "      <th>Number of chiral centers</th>\n",
       "      <th>Ligand efficiency</th>\n",
       "      <th>Lipophilic efficiency</th>\n",
       "    </tr>\n",
       "  </thead>\n",
       "  <tbody>\n",
       "    <tr>\n",
       "      <th>0</th>\n",
       "      <td>1603</td>\n",
       "      <td>6.2</td>\n",
       "      <td>423.15</td>\n",
       "      <td>1.76</td>\n",
       "      <td>1</td>\n",
       "      <td>7</td>\n",
       "      <td>81.40</td>\n",
       "      <td>5</td>\n",
       "      <td>3</td>\n",
       "      <td>0.27</td>\n",
       "      <td>1</td>\n",
       "      <td>0.28</td>\n",
       "      <td>4.44</td>\n",
       "    </tr>\n",
       "    <tr>\n",
       "      <th>1</th>\n",
       "      <td>1604</td>\n",
       "      <td>6.1</td>\n",
       "      <td>415.16</td>\n",
       "      <td>2.69</td>\n",
       "      <td>1</td>\n",
       "      <td>8</td>\n",
       "      <td>93.38</td>\n",
       "      <td>3</td>\n",
       "      <td>5</td>\n",
       "      <td>0.22</td>\n",
       "      <td>1</td>\n",
       "      <td>0.27</td>\n",
       "      <td>3.41</td>\n",
       "    </tr>\n",
       "    <tr>\n",
       "      <th>2</th>\n",
       "      <td>1605</td>\n",
       "      <td>5.0</td>\n",
       "      <td>236.09</td>\n",
       "      <td>1.90</td>\n",
       "      <td>0</td>\n",
       "      <td>3</td>\n",
       "      <td>34.37</td>\n",
       "      <td>2</td>\n",
       "      <td>3</td>\n",
       "      <td>0.07</td>\n",
       "      <td>0</td>\n",
       "      <td>0.38</td>\n",
       "      <td>3.10</td>\n",
       "    </tr>\n",
       "    <tr>\n",
       "      <th>3</th>\n",
       "      <td>1606</td>\n",
       "      <td>5.7</td>\n",
       "      <td>306.10</td>\n",
       "      <td>2.12</td>\n",
       "      <td>1</td>\n",
       "      <td>5</td>\n",
       "      <td>72.20</td>\n",
       "      <td>3</td>\n",
       "      <td>2</td>\n",
       "      <td>0.40</td>\n",
       "      <td>0</td>\n",
       "      <td>0.37</td>\n",
       "      <td>3.58</td>\n",
       "    </tr>\n",
       "    <tr>\n",
       "      <th>4</th>\n",
       "      <td>1607</td>\n",
       "      <td>5.5</td>\n",
       "      <td>322.10</td>\n",
       "      <td>1.45</td>\n",
       "      <td>1</td>\n",
       "      <td>6</td>\n",
       "      <td>81.43</td>\n",
       "      <td>4</td>\n",
       "      <td>2</td>\n",
       "      <td>0.40</td>\n",
       "      <td>0</td>\n",
       "      <td>0.34</td>\n",
       "      <td>4.05</td>\n",
       "    </tr>\n",
       "  </tbody>\n",
       "</table>\n",
       "</div>"
      ],
      "text/plain": [
       "   Compound's ID  Activity  Molecular weight  ALogP  Number of H-bond donor  \\\n",
       "0           1603       6.2            423.15   1.76                       1   \n",
       "1           1604       6.1            415.16   2.69                       1   \n",
       "2           1605       5.0            236.09   1.90                       0   \n",
       "3           1606       5.7            306.10   2.12                       1   \n",
       "4           1607       5.5            322.10   1.45                       1   \n",
       "\n",
       "   Number of H-bond acceptor  Topological surface area  \\\n",
       "0                          7                     81.40   \n",
       "1                          8                     93.38   \n",
       "2                          3                     34.37   \n",
       "3                          5                     72.20   \n",
       "4                          6                     81.43   \n",
       "\n",
       "   Number of rotatable bond  Number of aromatic ring  \\\n",
       "0                         5                        3   \n",
       "1                         3                        5   \n",
       "2                         2                        3   \n",
       "3                         3                        2   \n",
       "4                         4                        2   \n",
       "\n",
       "   Number of Carbon sp3 / Number of Carbon  Number of chiral centers  \\\n",
       "0                                     0.27                         1   \n",
       "1                                     0.22                         1   \n",
       "2                                     0.07                         0   \n",
       "3                                     0.40                         0   \n",
       "4                                     0.40                         0   \n",
       "\n",
       "   Ligand efficiency  Lipophilic efficiency  \n",
       "0               0.28                   4.44  \n",
       "1               0.27                   3.41  \n",
       "2               0.38                   3.10  \n",
       "3               0.37                   3.58  \n",
       "4               0.34                   4.05  "
      ]
     },
     "execution_count": 10,
     "metadata": {},
     "output_type": "execute_result"
    }
   ],
   "source": [
    "#Crear un DataFrame datos numericos (df_feat)\n",
    "numerical_data  = Data.select_dtypes(include=['float64', 'int64'])\n",
    "numerical_data.head(5)"
   ]
  },
  {
   "cell_type": "code",
   "execution_count": 11,
   "metadata": {},
   "outputs": [
    {
     "data": {
      "text/html": [
       "<div>\n",
       "<style scoped>\n",
       "    .dataframe tbody tr th:only-of-type {\n",
       "        vertical-align: middle;\n",
       "    }\n",
       "\n",
       "    .dataframe tbody tr th {\n",
       "        vertical-align: top;\n",
       "    }\n",
       "\n",
       "    .dataframe thead th {\n",
       "        text-align: right;\n",
       "    }\n",
       "</style>\n",
       "<table border=\"1\" class=\"dataframe\">\n",
       "  <thead>\n",
       "    <tr style=\"text-align: right;\">\n",
       "      <th></th>\n",
       "      <th>Activity</th>\n",
       "      <th>Molecular weight</th>\n",
       "      <th>ALogP</th>\n",
       "      <th>Number of H-bond donor</th>\n",
       "      <th>Number of H-bond acceptor</th>\n",
       "      <th>Topological surface area</th>\n",
       "      <th>Number of rotatable bond</th>\n",
       "      <th>Number of aromatic ring</th>\n",
       "      <th>Number of Carbon sp3 / Number of Carbon</th>\n",
       "      <th>Number of chiral centers</th>\n",
       "      <th>Ligand efficiency</th>\n",
       "      <th>Lipophilic efficiency</th>\n",
       "    </tr>\n",
       "  </thead>\n",
       "  <tbody>\n",
       "    <tr>\n",
       "      <th>0</th>\n",
       "      <td>6.2</td>\n",
       "      <td>423.15</td>\n",
       "      <td>1.76</td>\n",
       "      <td>1</td>\n",
       "      <td>7</td>\n",
       "      <td>81.40</td>\n",
       "      <td>5</td>\n",
       "      <td>3</td>\n",
       "      <td>0.27</td>\n",
       "      <td>1</td>\n",
       "      <td>0.28</td>\n",
       "      <td>4.44</td>\n",
       "    </tr>\n",
       "    <tr>\n",
       "      <th>1</th>\n",
       "      <td>6.1</td>\n",
       "      <td>415.16</td>\n",
       "      <td>2.69</td>\n",
       "      <td>1</td>\n",
       "      <td>8</td>\n",
       "      <td>93.38</td>\n",
       "      <td>3</td>\n",
       "      <td>5</td>\n",
       "      <td>0.22</td>\n",
       "      <td>1</td>\n",
       "      <td>0.27</td>\n",
       "      <td>3.41</td>\n",
       "    </tr>\n",
       "    <tr>\n",
       "      <th>2</th>\n",
       "      <td>5.0</td>\n",
       "      <td>236.09</td>\n",
       "      <td>1.90</td>\n",
       "      <td>0</td>\n",
       "      <td>3</td>\n",
       "      <td>34.37</td>\n",
       "      <td>2</td>\n",
       "      <td>3</td>\n",
       "      <td>0.07</td>\n",
       "      <td>0</td>\n",
       "      <td>0.38</td>\n",
       "      <td>3.10</td>\n",
       "    </tr>\n",
       "    <tr>\n",
       "      <th>3</th>\n",
       "      <td>5.7</td>\n",
       "      <td>306.10</td>\n",
       "      <td>2.12</td>\n",
       "      <td>1</td>\n",
       "      <td>5</td>\n",
       "      <td>72.20</td>\n",
       "      <td>3</td>\n",
       "      <td>2</td>\n",
       "      <td>0.40</td>\n",
       "      <td>0</td>\n",
       "      <td>0.37</td>\n",
       "      <td>3.58</td>\n",
       "    </tr>\n",
       "    <tr>\n",
       "      <th>4</th>\n",
       "      <td>5.5</td>\n",
       "      <td>322.10</td>\n",
       "      <td>1.45</td>\n",
       "      <td>1</td>\n",
       "      <td>6</td>\n",
       "      <td>81.43</td>\n",
       "      <td>4</td>\n",
       "      <td>2</td>\n",
       "      <td>0.40</td>\n",
       "      <td>0</td>\n",
       "      <td>0.34</td>\n",
       "      <td>4.05</td>\n",
       "    </tr>\n",
       "  </tbody>\n",
       "</table>\n",
       "</div>"
      ],
      "text/plain": [
       "   Activity  Molecular weight  ALogP  Number of H-bond donor  \\\n",
       "0       6.2            423.15   1.76                       1   \n",
       "1       6.1            415.16   2.69                       1   \n",
       "2       5.0            236.09   1.90                       0   \n",
       "3       5.7            306.10   2.12                       1   \n",
       "4       5.5            322.10   1.45                       1   \n",
       "\n",
       "   Number of H-bond acceptor  Topological surface area  \\\n",
       "0                          7                     81.40   \n",
       "1                          8                     93.38   \n",
       "2                          3                     34.37   \n",
       "3                          5                     72.20   \n",
       "4                          6                     81.43   \n",
       "\n",
       "   Number of rotatable bond  Number of aromatic ring  \\\n",
       "0                         5                        3   \n",
       "1                         3                        5   \n",
       "2                         2                        3   \n",
       "3                         3                        2   \n",
       "4                         4                        2   \n",
       "\n",
       "   Number of Carbon sp3 / Number of Carbon  Number of chiral centers  \\\n",
       "0                                     0.27                         1   \n",
       "1                                     0.22                         1   \n",
       "2                                     0.07                         0   \n",
       "3                                     0.40                         0   \n",
       "4                                     0.40                         0   \n",
       "\n",
       "   Ligand efficiency  Lipophilic efficiency  \n",
       "0               0.28                   4.44  \n",
       "1               0.27                   3.41  \n",
       "2               0.38                   3.10  \n",
       "3               0.37                   3.58  \n",
       "4               0.34                   4.05  "
      ]
     },
     "execution_count": 11,
     "metadata": {},
     "output_type": "execute_result"
    }
   ],
   "source": [
    "#drop some variables, \n",
    "numerical_data = numerical_data.drop([\"Compound's ID\"], axis =1)\n",
    "numerical_data.head()"
   ]
  },
  {
   "cell_type": "code",
   "execution_count": 12,
   "metadata": {},
   "outputs": [
    {
     "data": {
      "text/plain": [
       "Index(['Activity', 'Molecular weight', 'ALogP', 'Number of H-bond donor',\n",
       "       'Number of H-bond acceptor', 'Topological surface area',\n",
       "       'Number of rotatable bond', 'Number of aromatic ring',\n",
       "       'Number of Carbon sp3 / Number of Carbon', 'Number of chiral centers',\n",
       "       'Ligand efficiency', 'Lipophilic efficiency'],\n",
       "      dtype='object')"
      ]
     },
     "execution_count": 12,
     "metadata": {},
     "output_type": "execute_result"
    }
   ],
   "source": [
    "numerical_data.columns"
   ]
  },
  {
   "cell_type": "code",
   "execution_count": 13,
   "metadata": {},
   "outputs": [
    {
     "data": {
      "text/plain": [
       "<matplotlib.axes._subplots.AxesSubplot at 0x7f75864dca58>"
      ]
     },
     "execution_count": 13,
     "metadata": {},
     "output_type": "execute_result"
    },
    {
     "data": {
      "image/png": "[encoded data removed]",
      "text/plain": [
       "<Figure size 432x288 with 2 Axes>"
      ]
     },
     "metadata": {
      "needs_background": "light"
     },
     "output_type": "display_data"
    }
   ],
   "source": [
    "#Correlation matrix\n",
    "sns.heatmap(numerical_data.corr())"
   ]
  },
  {
   "cell_type": "code",
   "execution_count": 14,
   "metadata": {
    "scrolled": false
   },
   "outputs": [
    {
     "data": {
      "text/plain": [
       "array([[<matplotlib.axes._subplots.AxesSubplot object at 0x7f757fbf70b8>,\n",
       "        <matplotlib.axes._subplots.AxesSubplot object at 0x7f757fc1b1d0>,\n",
       "        <matplotlib.axes._subplots.AxesSubplot object at 0x7f757fbc4668>,\n",
       "        <matplotlib.axes._subplots.AxesSubplot object at 0x7f757fbe9be0>],\n",
       "       [<matplotlib.axes._subplots.AxesSubplot object at 0x7f757fb9b198>,\n",
       "        <matplotlib.axes._subplots.AxesSubplot object at 0x7f757fb42710>,\n",
       "        <matplotlib.axes._subplots.AxesSubplot object at 0x7f757fb6ac88>,\n",
       "        <matplotlib.axes._subplots.AxesSubplot object at 0x7f757fb1c278>],\n",
       "       [<matplotlib.axes._subplots.AxesSubplot object at 0x7f757fb1c2b0>,\n",
       "        <matplotlib.axes._subplots.AxesSubplot object at 0x7f757fa6cd30>,\n",
       "        <matplotlib.axes._subplots.AxesSubplot object at 0x7f757fa9e2e8>,\n",
       "        <matplotlib.axes._subplots.AxesSubplot object at 0x7f757fa45860>],\n",
       "       [<matplotlib.axes._subplots.AxesSubplot object at 0x7f757f9eddd8>,\n",
       "        <matplotlib.axes._subplots.AxesSubplot object at 0x7f757fa1f390>,\n",
       "        <matplotlib.axes._subplots.AxesSubplot object at 0x7f757f9c4908>,\n",
       "        <matplotlib.axes._subplots.AxesSubplot object at 0x7f757f96ee48>]],\n",
       "      dtype=object)"
      ]
     },
     "execution_count": 14,
     "metadata": {},
     "output_type": "execute_result"
    },
    {
     "data": {
      "image/png": "[encoded data removed]",
      "text/plain": [
       "<Figure size 1440x1440 with 16 Axes>"
      ]
     },
     "metadata": {
      "needs_background": "light"
     },
     "output_type": "display_data"
    }
   ],
   "source": [
    "#scatter matrix\n",
    "from pandas.plotting import scatter_matrix\n",
    "features=[\"Activity\", 'Molecular weight', 'ALogP', 'Number of H-bond donor']\n",
    "_ = numerical_data[features] \n",
    "pd.plotting.scatter_matrix(_, figsize=(20,20), alpha=0.2)"
   ]
  },
  {
   "cell_type": "code",
   "execution_count": 15,
   "metadata": {
    "scrolled": false
   },
   "outputs": [
    {
     "data": {
      "text/plain": [
       "<matplotlib.collections.PathCollection at 0x7f757e8e2940>"
      ]
     },
     "execution_count": 15,
     "metadata": {},
     "output_type": "execute_result"
    },
    {
     "data": {
      "image/png": "[encoded data removed]",
      "text/plain": [
       "<Figure size 432x288 with 1 Axes>"
      ]
     },
     "metadata": {
      "needs_background": "light"
     },
     "output_type": "display_data"
    }
   ],
   "source": [
    "#Plot activity, vs Lipophilic\n",
    "plt.scatter(Data[\"Activity\"], Data[\"Lipophilic efficiency\"])"
   ]
  },
  {
   "cell_type": "code",
   "execution_count": 16,
   "metadata": {},
   "outputs": [
    {
     "data": {
      "text/html": [
       "<div>\n",
       "<style scoped>\n",
       "    .dataframe tbody tr th:only-of-type {\n",
       "        vertical-align: middle;\n",
       "    }\n",
       "\n",
       "    .dataframe tbody tr th {\n",
       "        vertical-align: top;\n",
       "    }\n",
       "\n",
       "    .dataframe thead th {\n",
       "        text-align: right;\n",
       "    }\n",
       "</style>\n",
       "<table border=\"1\" class=\"dataframe\">\n",
       "  <thead>\n",
       "    <tr style=\"text-align: right;\">\n",
       "      <th></th>\n",
       "      <th>Activity</th>\n",
       "    </tr>\n",
       "  </thead>\n",
       "  <tbody>\n",
       "    <tr>\n",
       "      <th>0</th>\n",
       "      <td>6.2</td>\n",
       "    </tr>\n",
       "    <tr>\n",
       "      <th>1</th>\n",
       "      <td>6.1</td>\n",
       "    </tr>\n",
       "    <tr>\n",
       "      <th>2</th>\n",
       "      <td>5.0</td>\n",
       "    </tr>\n",
       "    <tr>\n",
       "      <th>3</th>\n",
       "      <td>5.7</td>\n",
       "    </tr>\n",
       "    <tr>\n",
       "      <th>4</th>\n",
       "      <td>5.5</td>\n",
       "    </tr>\n",
       "  </tbody>\n",
       "</table>\n",
       "</div>"
      ],
      "text/plain": [
       "   Activity\n",
       "0       6.2\n",
       "1       6.1\n",
       "2       5.0\n",
       "3       5.7\n",
       "4       5.5"
      ]
     },
     "execution_count": 16,
     "metadata": {},
     "output_type": "execute_result"
    }
   ],
   "source": [
    "#Create a dataframe to storage Target values\n",
    "df_target = pd.DataFrame(Data[\"Activity\"], columns=[\"Activity\"])\n",
    "df_target.head(5)"
   ]
  },
  {
   "cell_type": "code",
   "execution_count": 17,
   "metadata": {},
   "outputs": [
    {
     "data": {
      "text/html": [
       "<div>\n",
       "<style scoped>\n",
       "    .dataframe tbody tr th:only-of-type {\n",
       "        vertical-align: middle;\n",
       "    }\n",
       "\n",
       "    .dataframe tbody tr th {\n",
       "        vertical-align: top;\n",
       "    }\n",
       "\n",
       "    .dataframe thead th {\n",
       "        text-align: right;\n",
       "    }\n",
       "</style>\n",
       "<table border=\"1\" class=\"dataframe\">\n",
       "  <thead>\n",
       "    <tr style=\"text-align: right;\">\n",
       "      <th></th>\n",
       "      <th>Molecular weight</th>\n",
       "      <th>ALogP</th>\n",
       "      <th>Number of H-bond donor</th>\n",
       "      <th>Number of H-bond acceptor</th>\n",
       "      <th>Topological surface area</th>\n",
       "      <th>Number of rotatable bond</th>\n",
       "      <th>Number of aromatic ring</th>\n",
       "      <th>Number of Carbon sp3 / Number of Carbon</th>\n",
       "      <th>Number of chiral centers</th>\n",
       "      <th>Ligand efficiency</th>\n",
       "      <th>Lipophilic efficiency</th>\n",
       "    </tr>\n",
       "  </thead>\n",
       "  <tbody>\n",
       "    <tr>\n",
       "      <th>0</th>\n",
       "      <td>423.15</td>\n",
       "      <td>1.76</td>\n",
       "      <td>1</td>\n",
       "      <td>7</td>\n",
       "      <td>81.40</td>\n",
       "      <td>5</td>\n",
       "      <td>3</td>\n",
       "      <td>0.27</td>\n",
       "      <td>1</td>\n",
       "      <td>0.28</td>\n",
       "      <td>4.44</td>\n",
       "    </tr>\n",
       "    <tr>\n",
       "      <th>1</th>\n",
       "      <td>415.16</td>\n",
       "      <td>2.69</td>\n",
       "      <td>1</td>\n",
       "      <td>8</td>\n",
       "      <td>93.38</td>\n",
       "      <td>3</td>\n",
       "      <td>5</td>\n",
       "      <td>0.22</td>\n",
       "      <td>1</td>\n",
       "      <td>0.27</td>\n",
       "      <td>3.41</td>\n",
       "    </tr>\n",
       "    <tr>\n",
       "      <th>2</th>\n",
       "      <td>236.09</td>\n",
       "      <td>1.90</td>\n",
       "      <td>0</td>\n",
       "      <td>3</td>\n",
       "      <td>34.37</td>\n",
       "      <td>2</td>\n",
       "      <td>3</td>\n",
       "      <td>0.07</td>\n",
       "      <td>0</td>\n",
       "      <td>0.38</td>\n",
       "      <td>3.10</td>\n",
       "    </tr>\n",
       "    <tr>\n",
       "      <th>3</th>\n",
       "      <td>306.10</td>\n",
       "      <td>2.12</td>\n",
       "      <td>1</td>\n",
       "      <td>5</td>\n",
       "      <td>72.20</td>\n",
       "      <td>3</td>\n",
       "      <td>2</td>\n",
       "      <td>0.40</td>\n",
       "      <td>0</td>\n",
       "      <td>0.37</td>\n",
       "      <td>3.58</td>\n",
       "    </tr>\n",
       "    <tr>\n",
       "      <th>4</th>\n",
       "      <td>322.10</td>\n",
       "      <td>1.45</td>\n",
       "      <td>1</td>\n",
       "      <td>6</td>\n",
       "      <td>81.43</td>\n",
       "      <td>4</td>\n",
       "      <td>2</td>\n",
       "      <td>0.40</td>\n",
       "      <td>0</td>\n",
       "      <td>0.34</td>\n",
       "      <td>4.05</td>\n",
       "    </tr>\n",
       "  </tbody>\n",
       "</table>\n",
       "</div>"
      ],
      "text/plain": [
       "   Molecular weight  ALogP  Number of H-bond donor  Number of H-bond acceptor  \\\n",
       "0            423.15   1.76                       1                          7   \n",
       "1            415.16   2.69                       1                          8   \n",
       "2            236.09   1.90                       0                          3   \n",
       "3            306.10   2.12                       1                          5   \n",
       "4            322.10   1.45                       1                          6   \n",
       "\n",
       "   Topological surface area  Number of rotatable bond  \\\n",
       "0                     81.40                         5   \n",
       "1                     93.38                         3   \n",
       "2                     34.37                         2   \n",
       "3                     72.20                         3   \n",
       "4                     81.43                         4   \n",
       "\n",
       "   Number of aromatic ring  Number of Carbon sp3 / Number of Carbon  \\\n",
       "0                        3                                     0.27   \n",
       "1                        5                                     0.22   \n",
       "2                        3                                     0.07   \n",
       "3                        2                                     0.40   \n",
       "4                        2                                     0.40   \n",
       "\n",
       "   Number of chiral centers  Ligand efficiency  Lipophilic efficiency  \n",
       "0                         1               0.28                   4.44  \n",
       "1                         1               0.27                   3.41  \n",
       "2                         0               0.38                   3.10  \n",
       "3                         0               0.37                   3.58  \n",
       "4                         0               0.34                   4.05  "
      ]
     },
     "execution_count": 17,
     "metadata": {},
     "output_type": "execute_result"
    }
   ],
   "source": [
    "#drop activity from numetical data\n",
    "numerical_data = numerical_data.drop([\"Activity\"], axis =1)\n",
    "numerical_data.head()"
   ]
  },
  {
   "cell_type": "code",
   "execution_count": null,
   "metadata": {},
   "outputs": [],
   "source": []
  },
  {
   "cell_type": "markdown",
   "metadata": {},
   "source": [
    "## Machine Learning Model"
   ]
  },
  {
   "cell_type": "markdown",
   "metadata": {},
   "source": [
    "### Linear multivariate regression\n",
    "\n",
    "#### scikit-learn API\n",
    "##### https://scikit-learn.org/stable/"
   ]
  },
  {
   "cell_type": "code",
   "execution_count": 18,
   "metadata": {},
   "outputs": [],
   "source": [
    "import sklearn\n",
    "from sklearn.model_selection import train_test_split"
   ]
  },
  {
   "cell_type": "code",
   "execution_count": 19,
   "metadata": {},
   "outputs": [],
   "source": [
    "#Create a test set\n",
    "X_train, X_test, y_train, y_test = train_test_split(numerical_data,df_target, test_size = 0.3, random_state=42)"
   ]
  },
  {
   "cell_type": "code",
   "execution_count": 20,
   "metadata": {},
   "outputs": [
    {
     "data": {
      "text/html": [
       "<div>\n",
       "<style scoped>\n",
       "    .dataframe tbody tr th:only-of-type {\n",
       "        vertical-align: middle;\n",
       "    }\n",
       "\n",
       "    .dataframe tbody tr th {\n",
       "        vertical-align: top;\n",
       "    }\n",
       "\n",
       "    .dataframe thead th {\n",
       "        text-align: right;\n",
       "    }\n",
       "</style>\n",
       "<table border=\"1\" class=\"dataframe\">\n",
       "  <thead>\n",
       "    <tr style=\"text-align: right;\">\n",
       "      <th></th>\n",
       "      <th>Molecular weight</th>\n",
       "      <th>ALogP</th>\n",
       "      <th>Number of H-bond donor</th>\n",
       "      <th>Number of H-bond acceptor</th>\n",
       "      <th>Topological surface area</th>\n",
       "      <th>Number of rotatable bond</th>\n",
       "      <th>Number of aromatic ring</th>\n",
       "      <th>Number of Carbon sp3 / Number of Carbon</th>\n",
       "      <th>Number of chiral centers</th>\n",
       "      <th>Ligand efficiency</th>\n",
       "      <th>Lipophilic efficiency</th>\n",
       "    </tr>\n",
       "  </thead>\n",
       "  <tbody>\n",
       "    <tr>\n",
       "      <th>13</th>\n",
       "      <td>376.06</td>\n",
       "      <td>3.92</td>\n",
       "      <td>1</td>\n",
       "      <td>5</td>\n",
       "      <td>72.20</td>\n",
       "      <td>3</td>\n",
       "      <td>3</td>\n",
       "      <td>0.17</td>\n",
       "      <td>0</td>\n",
       "      <td>0.27</td>\n",
       "      <td>0.98</td>\n",
       "    </tr>\n",
       "    <tr>\n",
       "      <th>31</th>\n",
       "      <td>350.13</td>\n",
       "      <td>2.06</td>\n",
       "      <td>0</td>\n",
       "      <td>6</td>\n",
       "      <td>72.64</td>\n",
       "      <td>3</td>\n",
       "      <td>2</td>\n",
       "      <td>0.47</td>\n",
       "      <td>0</td>\n",
       "      <td>0.33</td>\n",
       "      <td>3.74</td>\n",
       "    </tr>\n",
       "    <tr>\n",
       "      <th>34</th>\n",
       "      <td>336.11</td>\n",
       "      <td>1.66</td>\n",
       "      <td>0</td>\n",
       "      <td>6</td>\n",
       "      <td>72.64</td>\n",
       "      <td>2</td>\n",
       "      <td>2</td>\n",
       "      <td>0.44</td>\n",
       "      <td>0</td>\n",
       "      <td>0.28</td>\n",
       "      <td>3.04</td>\n",
       "    </tr>\n",
       "    <tr>\n",
       "      <th>8</th>\n",
       "      <td>342.10</td>\n",
       "      <td>3.32</td>\n",
       "      <td>1</td>\n",
       "      <td>5</td>\n",
       "      <td>72.20</td>\n",
       "      <td>3</td>\n",
       "      <td>3</td>\n",
       "      <td>0.17</td>\n",
       "      <td>0</td>\n",
       "      <td>0.32</td>\n",
       "      <td>2.28</td>\n",
       "    </tr>\n",
       "    <tr>\n",
       "      <th>17</th>\n",
       "      <td>388.11</td>\n",
       "      <td>2.49</td>\n",
       "      <td>1</td>\n",
       "      <td>7</td>\n",
       "      <td>90.66</td>\n",
       "      <td>5</td>\n",
       "      <td>3</td>\n",
       "      <td>0.21</td>\n",
       "      <td>0</td>\n",
       "      <td>0.24</td>\n",
       "      <td>2.31</td>\n",
       "    </tr>\n",
       "  </tbody>\n",
       "</table>\n",
       "</div>"
      ],
      "text/plain": [
       "    Molecular weight  ALogP  Number of H-bond donor  \\\n",
       "13            376.06   3.92                       1   \n",
       "31            350.13   2.06                       0   \n",
       "34            336.11   1.66                       0   \n",
       "8             342.10   3.32                       1   \n",
       "17            388.11   2.49                       1   \n",
       "\n",
       "    Number of H-bond acceptor  Topological surface area  \\\n",
       "13                          5                     72.20   \n",
       "31                          6                     72.64   \n",
       "34                          6                     72.64   \n",
       "8                           5                     72.20   \n",
       "17                          7                     90.66   \n",
       "\n",
       "    Number of rotatable bond  Number of aromatic ring  \\\n",
       "13                         3                        3   \n",
       "31                         3                        2   \n",
       "34                         2                        2   \n",
       "8                          3                        3   \n",
       "17                         5                        3   \n",
       "\n",
       "    Number of Carbon sp3 / Number of Carbon  Number of chiral centers  \\\n",
       "13                                     0.17                         0   \n",
       "31                                     0.47                         0   \n",
       "34                                     0.44                         0   \n",
       "8                                      0.17                         0   \n",
       "17                                     0.21                         0   \n",
       "\n",
       "    Ligand efficiency  Lipophilic efficiency  \n",
       "13               0.27                   0.98  \n",
       "31               0.33                   3.74  \n",
       "34               0.28                   3.04  \n",
       "8                0.32                   2.28  \n",
       "17               0.24                   2.31  "
      ]
     },
     "execution_count": 20,
     "metadata": {},
     "output_type": "execute_result"
    }
   ],
   "source": [
    "X_train.head()"
   ]
  },
  {
   "cell_type": "code",
   "execution_count": 21,
   "metadata": {},
   "outputs": [
    {
     "data": {
      "text/html": [
       "<div>\n",
       "<style scoped>\n",
       "    .dataframe tbody tr th:only-of-type {\n",
       "        vertical-align: middle;\n",
       "    }\n",
       "\n",
       "    .dataframe tbody tr th {\n",
       "        vertical-align: top;\n",
       "    }\n",
       "\n",
       "    .dataframe thead th {\n",
       "        text-align: right;\n",
       "    }\n",
       "</style>\n",
       "<table border=\"1\" class=\"dataframe\">\n",
       "  <thead>\n",
       "    <tr style=\"text-align: right;\">\n",
       "      <th></th>\n",
       "      <th>Activity</th>\n",
       "    </tr>\n",
       "  </thead>\n",
       "  <tbody>\n",
       "    <tr>\n",
       "      <th>13</th>\n",
       "      <td>4.9</td>\n",
       "    </tr>\n",
       "    <tr>\n",
       "      <th>31</th>\n",
       "      <td>5.8</td>\n",
       "    </tr>\n",
       "    <tr>\n",
       "      <th>34</th>\n",
       "      <td>4.7</td>\n",
       "    </tr>\n",
       "    <tr>\n",
       "      <th>8</th>\n",
       "      <td>5.6</td>\n",
       "    </tr>\n",
       "    <tr>\n",
       "      <th>17</th>\n",
       "      <td>4.8</td>\n",
       "    </tr>\n",
       "  </tbody>\n",
       "</table>\n",
       "</div>"
      ],
      "text/plain": [
       "    Activity\n",
       "13       4.9\n",
       "31       5.8\n",
       "34       4.7\n",
       "8        5.6\n",
       "17       4.8"
      ]
     },
     "execution_count": 21,
     "metadata": {},
     "output_type": "execute_result"
    }
   ],
   "source": [
    "y_train.head()"
   ]
  },
  {
   "cell_type": "code",
   "execution_count": 22,
   "metadata": {},
   "outputs": [],
   "source": [
    "#Import model\n",
    "from sklearn.linear_model import LinearRegression"
   ]
  },
  {
   "cell_type": "code",
   "execution_count": 23,
   "metadata": {},
   "outputs": [],
   "source": [
    "#Assign Model\n",
    "lm = LinearRegression()"
   ]
  },
  {
   "cell_type": "code",
   "execution_count": 24,
   "metadata": {},
   "outputs": [
    {
     "data": {
      "text/plain": [
       "LinearRegression()"
      ]
     },
     "execution_count": 24,
     "metadata": {},
     "output_type": "execute_result"
    }
   ],
   "source": [
    "#Train model\n",
    "lm.fit(X_train, y_train)"
   ]
  },
  {
   "cell_type": "code",
   "execution_count": 25,
   "metadata": {},
   "outputs": [
    {
     "name": "stdout",
     "output_type": "stream",
     "text": [
      "[-9.76996262e-15]\n"
     ]
    }
   ],
   "source": [
    "print(lm.intercept_)"
   ]
  },
  {
   "cell_type": "code",
   "execution_count": 26,
   "metadata": {},
   "outputs": [
    {
     "data": {
      "text/plain": [
       "array([[ 1.49253275e-17,  1.00000000e+00, -3.11352402e-15,\n",
       "        -1.71620657e-15,  2.79962186e-16, -4.10818109e-16,\n",
       "        -1.07116926e-16, -1.24683584e-16,  8.36367386e-17,\n",
       "         1.82560935e-14,  1.00000000e+00]])"
      ]
     },
     "execution_count": 26,
     "metadata": {},
     "output_type": "execute_result"
    }
   ],
   "source": [
    "lm.coef_"
   ]
  },
  {
   "cell_type": "code",
   "execution_count": 27,
   "metadata": {},
   "outputs": [],
   "source": [
    "cdf = pd.DataFrame(data = lm.coef_[0],\n",
    "                   index = X_train.columns,\n",
    "                   columns=[\"Coeficiente corelación\"])"
   ]
  },
  {
   "cell_type": "code",
   "execution_count": 28,
   "metadata": {},
   "outputs": [
    {
     "data": {
      "text/html": [
       "<div>\n",
       "<style scoped>\n",
       "    .dataframe tbody tr th:only-of-type {\n",
       "        vertical-align: middle;\n",
       "    }\n",
       "\n",
       "    .dataframe tbody tr th {\n",
       "        vertical-align: top;\n",
       "    }\n",
       "\n",
       "    .dataframe thead th {\n",
       "        text-align: right;\n",
       "    }\n",
       "</style>\n",
       "<table border=\"1\" class=\"dataframe\">\n",
       "  <thead>\n",
       "    <tr style=\"text-align: right;\">\n",
       "      <th></th>\n",
       "      <th>Coeficiente corelación</th>\n",
       "    </tr>\n",
       "  </thead>\n",
       "  <tbody>\n",
       "    <tr>\n",
       "      <th>Molecular weight</th>\n",
       "      <td>1.492533e-17</td>\n",
       "    </tr>\n",
       "    <tr>\n",
       "      <th>ALogP</th>\n",
       "      <td>1.000000e+00</td>\n",
       "    </tr>\n",
       "    <tr>\n",
       "      <th>Number of H-bond donor</th>\n",
       "      <td>-3.113524e-15</td>\n",
       "    </tr>\n",
       "    <tr>\n",
       "      <th>Number of H-bond acceptor</th>\n",
       "      <td>-1.716207e-15</td>\n",
       "    </tr>\n",
       "    <tr>\n",
       "      <th>Topological surface area</th>\n",
       "      <td>2.799622e-16</td>\n",
       "    </tr>\n",
       "    <tr>\n",
       "      <th>Number of rotatable bond</th>\n",
       "      <td>-4.108181e-16</td>\n",
       "    </tr>\n",
       "    <tr>\n",
       "      <th>Number of aromatic ring</th>\n",
       "      <td>-1.071169e-16</td>\n",
       "    </tr>\n",
       "    <tr>\n",
       "      <th>Number of Carbon sp3 / Number of Carbon</th>\n",
       "      <td>-1.246836e-16</td>\n",
       "    </tr>\n",
       "    <tr>\n",
       "      <th>Number of chiral centers</th>\n",
       "      <td>8.363674e-17</td>\n",
       "    </tr>\n",
       "    <tr>\n",
       "      <th>Ligand efficiency</th>\n",
       "      <td>1.825609e-14</td>\n",
       "    </tr>\n",
       "    <tr>\n",
       "      <th>Lipophilic efficiency</th>\n",
       "      <td>1.000000e+00</td>\n",
       "    </tr>\n",
       "  </tbody>\n",
       "</table>\n",
       "</div>"
      ],
      "text/plain": [
       "                                         Coeficiente corelación\n",
       "Molecular weight                                   1.492533e-17\n",
       "ALogP                                              1.000000e+00\n",
       "Number of H-bond donor                            -3.113524e-15\n",
       "Number of H-bond acceptor                         -1.716207e-15\n",
       "Topological surface area                           2.799622e-16\n",
       "Number of rotatable bond                          -4.108181e-16\n",
       "Number of aromatic ring                           -1.071169e-16\n",
       "Number of Carbon sp3 / Number of Carbon           -1.246836e-16\n",
       "Number of chiral centers                           8.363674e-17\n",
       "Ligand efficiency                                  1.825609e-14\n",
       "Lipophilic efficiency                              1.000000e+00"
      ]
     },
     "execution_count": 28,
     "metadata": {},
     "output_type": "execute_result"
    }
   ],
   "source": [
    "cdf"
   ]
  },
  {
   "cell_type": "markdown",
   "metadata": {},
   "source": [
    "### Predictions"
   ]
  },
  {
   "cell_type": "code",
   "execution_count": 29,
   "metadata": {},
   "outputs": [],
   "source": [
    "#write a function to select descriptors from an specific compoud descriptor"
   ]
  },
  {
   "cell_type": "code",
   "execution_count": 30,
   "metadata": {},
   "outputs": [],
   "source": [
    "def test_compound(ID):\n",
    "    test = Data[Data[\"Compound's ID\"]== ID]\n",
    "    test = test[numerical_data.columns]\n",
    "    return test"
   ]
  },
  {
   "cell_type": "code",
   "execution_count": 31,
   "metadata": {},
   "outputs": [
    {
     "data": {
      "text/html": [
       "<div>\n",
       "<style scoped>\n",
       "    .dataframe tbody tr th:only-of-type {\n",
       "        vertical-align: middle;\n",
       "    }\n",
       "\n",
       "    .dataframe tbody tr th {\n",
       "        vertical-align: top;\n",
       "    }\n",
       "\n",
       "    .dataframe thead th {\n",
       "        text-align: right;\n",
       "    }\n",
       "</style>\n",
       "<table border=\"1\" class=\"dataframe\">\n",
       "  <thead>\n",
       "    <tr style=\"text-align: right;\">\n",
       "      <th></th>\n",
       "      <th>Molecular weight</th>\n",
       "      <th>ALogP</th>\n",
       "      <th>Number of H-bond donor</th>\n",
       "      <th>Number of H-bond acceptor</th>\n",
       "      <th>Topological surface area</th>\n",
       "      <th>Number of rotatable bond</th>\n",
       "      <th>Number of aromatic ring</th>\n",
       "      <th>Number of Carbon sp3 / Number of Carbon</th>\n",
       "      <th>Number of chiral centers</th>\n",
       "      <th>Ligand efficiency</th>\n",
       "      <th>Lipophilic efficiency</th>\n",
       "    </tr>\n",
       "  </thead>\n",
       "  <tbody>\n",
       "    <tr>\n",
       "      <th>0</th>\n",
       "      <td>423.15</td>\n",
       "      <td>1.76</td>\n",
       "      <td>1</td>\n",
       "      <td>7</td>\n",
       "      <td>81.4</td>\n",
       "      <td>5</td>\n",
       "      <td>3</td>\n",
       "      <td>0.27</td>\n",
       "      <td>1</td>\n",
       "      <td>0.28</td>\n",
       "      <td>4.44</td>\n",
       "    </tr>\n",
       "  </tbody>\n",
       "</table>\n",
       "</div>"
      ],
      "text/plain": [
       "   Molecular weight  ALogP  Number of H-bond donor  Number of H-bond acceptor  \\\n",
       "0            423.15   1.76                       1                          7   \n",
       "\n",
       "   Topological surface area  Number of rotatable bond  \\\n",
       "0                      81.4                         5   \n",
       "\n",
       "   Number of aromatic ring  Number of Carbon sp3 / Number of Carbon  \\\n",
       "0                        3                                     0.27   \n",
       "\n",
       "   Number of chiral centers  Ligand efficiency  Lipophilic efficiency  \n",
       "0                         1               0.28                   4.44  "
      ]
     },
     "execution_count": 31,
     "metadata": {},
     "output_type": "execute_result"
    }
   ],
   "source": [
    "#Look for an specific compound\n",
    "test = test_compound(1603)\n",
    "test"
   ]
  },
  {
   "cell_type": "markdown",
   "metadata": {},
   "source": [
    "#### single prediction"
   ]
  },
  {
   "cell_type": "code",
   "execution_count": 32,
   "metadata": {},
   "outputs": [
    {
     "data": {
      "text/plain": [
       "array([[6.2]])"
      ]
     },
     "execution_count": 32,
     "metadata": {},
     "output_type": "execute_result"
    }
   ],
   "source": [
    "#predic\n",
    "lm.predict(test)"
   ]
  },
  {
   "cell_type": "code",
   "execution_count": 33,
   "metadata": {},
   "outputs": [],
   "source": [
    "#Figure out real activity\n",
    "#write a function to select an specific compound\n",
    "def test_compound_Activity(ID):\n",
    "    test = Data[Data[\"Compound's ID\"]== ID]\n",
    "    Activity = test[\"Activity\"]\n",
    "    return Activity"
   ]
  },
  {
   "cell_type": "code",
   "execution_count": 34,
   "metadata": {},
   "outputs": [
    {
     "data": {
      "text/plain": [
       "0    6.2\n",
       "Name: Activity, dtype: float64"
      ]
     },
     "execution_count": 34,
     "metadata": {},
     "output_type": "execute_result"
    }
   ],
   "source": [
    "activity = test_compound_Activity(1603)\n",
    "activity"
   ]
  },
  {
   "cell_type": "code",
   "execution_count": 35,
   "metadata": {},
   "outputs": [],
   "source": [
    "def report(ID, test, activity):\n",
    "    print(\"Evaluation of compund ID\", str(ID))\n",
    "    print(\"Predicted activity value: \", str(lm.predict(test)[0][0]))\n",
    "    print(\"Real activity value\", str(activity))"
   ]
  },
  {
   "cell_type": "code",
   "execution_count": 36,
   "metadata": {},
   "outputs": [
    {
     "name": "stdout",
     "output_type": "stream",
     "text": [
      "Evaluation of compund ID 1603\n",
      "Predicted activity value:  6.199999999999998\n",
      "Real activity value 0    6.2\n",
      "Name: Activity, dtype: float64\n"
     ]
    }
   ],
   "source": [
    "report(1603, test, activity)"
   ]
  },
  {
   "cell_type": "code",
   "execution_count": 37,
   "metadata": {},
   "outputs": [],
   "source": [
    "#Predictions to compute metrics\n",
    "predictions = lm.predict(X_test)"
   ]
  },
  {
   "cell_type": "code",
   "execution_count": 38,
   "metadata": {},
   "outputs": [
    {
     "data": {
      "text/plain": [
       "<matplotlib.collections.PathCollection at 0x7f7576761e48>"
      ]
     },
     "execution_count": 38,
     "metadata": {},
     "output_type": "execute_result"
    },
    {
     "data": {
      "image/png": "[encoded data removed]",
      "text/plain": [
       "<Figure size 432x288 with 1 Axes>"
      ]
     },
     "metadata": {
      "needs_background": "light"
     },
     "output_type": "display_data"
    }
   ],
   "source": [
    "\n",
    "plt.scatter(y_test, predictions)"
   ]
  },
  {
   "cell_type": "code",
   "execution_count": 39,
   "metadata": {},
   "outputs": [
    {
     "name": "stderr",
     "output_type": "stream",
     "text": [
      "/home/babs/anaconda3/lib/python3.7/site-packages/scipy/stats/stats.py:1713: FutureWarning: Using a non-tuple sequence for multidimensional indexing is deprecated; use `arr[tuple(seq)]` instead of `arr[seq]`. In the future this will be interpreted as an array index, `arr[np.array(seq)]`, which will result either in an error or a different result.\n",
      "  return np.add.reduce(sorted[indexer] * weights, axis=axis) / sumval\n"
     ]
    },
    {
     "data": {
      "text/plain": [
       "<matplotlib.axes._subplots.AxesSubplot at 0x7f7576718828>"
      ]
     },
     "execution_count": 39,
     "metadata": {},
     "output_type": "execute_result"
    },
    {
     "data": {
      "image/png": "[encoded data removed]",
      "text/plain": [
       "<Figure size 432x288 with 1 Axes>"
      ]
     },
     "metadata": {
      "needs_background": "light"
     },
     "output_type": "display_data"
    }
   ],
   "source": [
    "#residual plot\n",
    "sns.distplot((y_test-predictions))"
   ]
  },
  {
   "cell_type": "code",
   "execution_count": null,
   "metadata": {},
   "outputs": [],
   "source": []
  },
  {
   "cell_type": "markdown",
   "metadata": {},
   "source": [
    "### Evaluate model\n",
    "#### Note: Regression Metrics\n",
    "#### scikit-learn.org/stable/modules/model_evaluation.html#regression-metrics"
   ]
  },
  {
   "cell_type": "code",
   "execution_count": 40,
   "metadata": {},
   "outputs": [],
   "source": [
    "from sklearn import metrics\n",
    "from sklearn.metrics import r2_score"
   ]
  },
  {
   "cell_type": "code",
   "execution_count": 41,
   "metadata": {},
   "outputs": [
    {
     "name": "stdout",
     "output_type": "stream",
     "text": [
      "R^2: 1.0\n"
     ]
    }
   ],
   "source": [
    "#Compute R2\n",
    "print(\"R^2:\",r2_score(y_test, predictions))"
   ]
  },
  {
   "cell_type": "code",
   "execution_count": 42,
   "metadata": {},
   "outputs": [
    {
     "name": "stdout",
     "output_type": "stream",
     "text": [
      "MAE: 6.661338147750939e-16\n",
      "MSE: 8.545993139894294e-31\n",
      "RMSE: 9.244454088746557e-16\n"
     ]
    }
   ],
   "source": [
    "#Compute metrics\n",
    "print(\"MAE:\", metrics.mean_absolute_error(y_test, predictions))\n",
    "print(\"MSE:\", metrics.mean_squared_error(y_test, predictions))\n",
    "print(\"RMSE:\", np.sqrt(metrics.mean_squared_error(y_test, predictions)))"
   ]
  },
  {
   "cell_type": "code",
   "execution_count": null,
   "metadata": {},
   "outputs": [],
   "source": []
  }
 ],
 "metadata": {
  "kernelspec": {
   "display_name": "Python 3",
   "language": "python",
   "name": "python3"
  },
  "language_info": {
   "codemirror_mode": {
    "name": "ipython",
    "version": 3
   },
   "file_extension": ".py",
   "mimetype": "text/x-python",
   "name": "python",
   "nbconvert_exporter": "python",
   "pygments_lexer": "ipython3",
   "version": "3.7.3"
  }
 },
 "nbformat": 4,
 "nbformat_minor": 2
}
