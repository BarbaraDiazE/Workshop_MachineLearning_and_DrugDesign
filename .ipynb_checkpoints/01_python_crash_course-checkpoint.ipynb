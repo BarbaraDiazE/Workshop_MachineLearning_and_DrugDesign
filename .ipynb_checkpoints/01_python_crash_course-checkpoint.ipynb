{
 "cells": [
  {
   "cell_type": "markdown",
   "metadata": {},
   "source": [
    "#Variables"
   ]
  },
  {
   "cell_type": "code",
   "execution_count": 1,
   "metadata": {},
   "outputs": [],
   "source": [
    "#create the variable a\n",
    "a = \"Acetaminophen\""
   ]
  },
  {
   "cell_type": "code",
   "execution_count": 2,
   "metadata": {},
   "outputs": [
    {
     "data": {
      "text/plain": [
       "'Acetaminophen'"
      ]
     },
     "execution_count": 2,
     "metadata": {},
     "output_type": "execute_result"
    }
   ],
   "source": [
    "#visualize a variable\n",
    "a"
   ]
  },
  {
   "cell_type": "code",
   "execution_count": 3,
   "metadata": {},
   "outputs": [
    {
     "name": "stdout",
     "output_type": "stream",
     "text": [
      "Acetaminophen\n"
     ]
    }
   ],
   "source": [
    "print(a)"
   ]
  },
  {
   "cell_type": "markdown",
   "metadata": {},
   "source": [
    "# Some python data types:\n",
    "\n",
    "## str\n",
    "## int, float, complex\n",
    "## list, tuple, range\n",
    "## dict"
   ]
  },
  {
   "cell_type": "code",
   "execution_count": 4,
   "metadata": {},
   "outputs": [],
   "source": [
    "dosis = 200"
   ]
  },
  {
   "cell_type": "code",
   "execution_count": 5,
   "metadata": {},
   "outputs": [
    {
     "name": "stdout",
     "output_type": "stream",
     "text": [
      "<class 'str'>\n"
     ]
    }
   ],
   "source": [
    "#Getting the Data Type\n",
    "print(type(a))"
   ]
  },
  {
   "cell_type": "code",
   "execution_count": 6,
   "metadata": {},
   "outputs": [
    {
     "name": "stdout",
     "output_type": "stream",
     "text": [
      "<class 'int'>\n"
     ]
    }
   ],
   "source": [
    "print(type(dosis))"
   ]
  },
  {
   "cell_type": "markdown",
   "metadata": {},
   "source": [
    "#Operators"
   ]
  },
  {
   "cell_type": "code",
   "execution_count": 7,
   "metadata": {},
   "outputs": [
    {
     "name": "stdout",
     "output_type": "stream",
     "text": [
      "15\n"
     ]
    }
   ],
   "source": [
    "x = 5\n",
    "y = 10\n",
    "\n",
    "print(x + y)"
   ]
  },
  {
   "cell_type": "code",
   "execution_count": 8,
   "metadata": {},
   "outputs": [
    {
     "name": "stdout",
     "output_type": "stream",
     "text": [
      "4.0\n"
     ]
    }
   ],
   "source": [
    "x = 12\n",
    "y = 3\n",
    "\n",
    "print(x / y)"
   ]
  },
  {
   "cell_type": "code",
   "execution_count": 9,
   "metadata": {},
   "outputs": [
    {
     "name": "stdout",
     "output_type": "stream",
     "text": [
      "False\n"
     ]
    }
   ],
   "source": [
    "x = 5\n",
    "y = 3\n",
    "\n",
    "print(x == y)"
   ]
  },
  {
   "cell_type": "code",
   "execution_count": 10,
   "metadata": {},
   "outputs": [
    {
     "name": "stdout",
     "output_type": "stream",
     "text": [
      "False\n"
     ]
    }
   ],
   "source": [
    "x = 5\n",
    "y = 3\n",
    "\n",
    "print(x == y)"
   ]
  },
  {
   "cell_type": "markdown",
   "metadata": {},
   "source": [
    "# Python collections\n",
    "### A)List is a collection which is ordered and changeable. Allows duplicate members.\n",
    "\n",
    "### B)Tuple is a collection which is ordered and unchangeable. Allows duplicate members.\n",
    "\n",
    "### C)Dictionary is a collection which is unordered, changeable and indexed. No duplicate members.\n",
    "\n",
    "#### https://www.w3schools.com/python/python_lists.asp"
   ]
  },
  {
   "cell_type": "code",
   "execution_count": 11,
   "metadata": {},
   "outputs": [],
   "source": [
    "#Lits\n",
    "\n",
    "antidiabetics = [\"Metformine\", \"Glimepiride\", \"Empaglifozine\"]"
   ]
  },
  {
   "cell_type": "code",
   "execution_count": 12,
   "metadata": {},
   "outputs": [],
   "source": [
    "dosis = [500, 4, 12]"
   ]
  },
  {
   "cell_type": "code",
   "execution_count": 13,
   "metadata": {},
   "outputs": [
    {
     "data": {
      "text/plain": [
       "[500, 4, 12]"
      ]
     },
     "execution_count": 13,
     "metadata": {},
     "output_type": "execute_result"
    }
   ],
   "source": [
    "#vizualize a list\n",
    "dosis"
   ]
  },
  {
   "cell_type": "code",
   "execution_count": 14,
   "metadata": {},
   "outputs": [
    {
     "data": {
      "text/plain": [
       "'Metformine'"
      ]
     },
     "execution_count": 14,
     "metadata": {},
     "output_type": "execute_result"
    }
   ],
   "source": [
    "#visualize an index\n",
    "antidiabetics[0]"
   ]
  },
  {
   "cell_type": "markdown",
   "metadata": {},
   "source": [
    "### Pandas"
   ]
  },
  {
   "cell_type": "code",
   "execution_count": 15,
   "metadata": {},
   "outputs": [],
   "source": [
    "import pandas as pd\n",
    "import numpy as np"
   ]
  },
  {
   "cell_type": "code",
   "execution_count": 16,
   "metadata": {},
   "outputs": [],
   "source": [
    "data = {\n",
    "    \"drugs\": antidiabetics, \n",
    "    \"dosis\": dosis\n",
    "}"
   ]
  },
  {
   "cell_type": "code",
   "execution_count": 17,
   "metadata": {},
   "outputs": [
    {
     "data": {
      "text/plain": [
       "{'drugs': ['Metformine', 'Glimepiride', 'Empaglifozine'],\n",
       " 'dosis': [500, 4, 12]}"
      ]
     },
     "execution_count": 17,
     "metadata": {},
     "output_type": "execute_result"
    }
   ],
   "source": [
    "data"
   ]
  },
  {
   "cell_type": "code",
   "execution_count": 18,
   "metadata": {},
   "outputs": [],
   "source": [
    "#Data Frame"
   ]
  },
  {
   "cell_type": "code",
   "execution_count": 19,
   "metadata": {},
   "outputs": [],
   "source": [
    "DF = pd.DataFrame.from_dict(data)"
   ]
  },
  {
   "cell_type": "code",
   "execution_count": 20,
   "metadata": {},
   "outputs": [
    {
     "data": {
      "text/html": [
       "<div>\n",
       "<style scoped>\n",
       "    .dataframe tbody tr th:only-of-type {\n",
       "        vertical-align: middle;\n",
       "    }\n",
       "\n",
       "    .dataframe tbody tr th {\n",
       "        vertical-align: top;\n",
       "    }\n",
       "\n",
       "    .dataframe thead th {\n",
       "        text-align: right;\n",
       "    }\n",
       "</style>\n",
       "<table border=\"1\" class=\"dataframe\">\n",
       "  <thead>\n",
       "    <tr style=\"text-align: right;\">\n",
       "      <th></th>\n",
       "      <th>drugs</th>\n",
       "      <th>dosis</th>\n",
       "    </tr>\n",
       "  </thead>\n",
       "  <tbody>\n",
       "    <tr>\n",
       "      <th>0</th>\n",
       "      <td>Metformine</td>\n",
       "      <td>500</td>\n",
       "    </tr>\n",
       "    <tr>\n",
       "      <th>1</th>\n",
       "      <td>Glimepiride</td>\n",
       "      <td>4</td>\n",
       "    </tr>\n",
       "    <tr>\n",
       "      <th>2</th>\n",
       "      <td>Empaglifozine</td>\n",
       "      <td>12</td>\n",
       "    </tr>\n",
       "  </tbody>\n",
       "</table>\n",
       "</div>"
      ],
      "text/plain": [
       "           drugs  dosis\n",
       "0     Metformine    500\n",
       "1    Glimepiride      4\n",
       "2  Empaglifozine     12"
      ]
     },
     "execution_count": 20,
     "metadata": {},
     "output_type": "execute_result"
    }
   ],
   "source": [
    "DF"
   ]
  },
  {
   "cell_type": "code",
   "execution_count": 21,
   "metadata": {},
   "outputs": [
    {
     "data": {
      "text/plain": [
       "0       Metformine\n",
       "1      Glimepiride\n",
       "2    Empaglifozine\n",
       "Name: drugs, dtype: object"
      ]
     },
     "execution_count": 21,
     "metadata": {},
     "output_type": "execute_result"
    }
   ],
   "source": [
    "DF[\"drugs\"]"
   ]
  },
  {
   "cell_type": "code",
   "execution_count": 22,
   "metadata": {},
   "outputs": [
    {
     "data": {
      "text/html": [
       "<div>\n",
       "<style scoped>\n",
       "    .dataframe tbody tr th:only-of-type {\n",
       "        vertical-align: middle;\n",
       "    }\n",
       "\n",
       "    .dataframe tbody tr th {\n",
       "        vertical-align: top;\n",
       "    }\n",
       "\n",
       "    .dataframe thead th {\n",
       "        text-align: right;\n",
       "    }\n",
       "</style>\n",
       "<table border=\"1\" class=\"dataframe\">\n",
       "  <thead>\n",
       "    <tr style=\"text-align: right;\">\n",
       "      <th></th>\n",
       "      <th>drugs</th>\n",
       "    </tr>\n",
       "  </thead>\n",
       "  <tbody>\n",
       "    <tr>\n",
       "      <th>0</th>\n",
       "      <td>Metformine</td>\n",
       "    </tr>\n",
       "    <tr>\n",
       "      <th>1</th>\n",
       "      <td>Glimepiride</td>\n",
       "    </tr>\n",
       "    <tr>\n",
       "      <th>2</th>\n",
       "      <td>Empaglifozine</td>\n",
       "    </tr>\n",
       "  </tbody>\n",
       "</table>\n",
       "</div>"
      ],
      "text/plain": [
       "           drugs\n",
       "0     Metformine\n",
       "1    Glimepiride\n",
       "2  Empaglifozine"
      ]
     },
     "execution_count": 22,
     "metadata": {},
     "output_type": "execute_result"
    }
   ],
   "source": [
    "#visualice a row\n",
    "DF.loc[:,[\"drugs\"]]"
   ]
  },
  {
   "cell_type": "code",
   "execution_count": 23,
   "metadata": {},
   "outputs": [
    {
     "data": {
      "text/plain": [
       "drugs    Metformine\n",
       "dosis           500\n",
       "Name: 0, dtype: object"
      ]
     },
     "execution_count": 23,
     "metadata": {},
     "output_type": "execute_result"
    }
   ],
   "source": [
    "#visualice a row\n",
    "DF.loc[0]"
   ]
  },
  {
   "cell_type": "code",
   "execution_count": 24,
   "metadata": {},
   "outputs": [
    {
     "data": {
      "text/plain": [
       "drugs    Metformine\n",
       "dosis           500\n",
       "Name: 0, dtype: object"
      ]
     },
     "execution_count": 24,
     "metadata": {},
     "output_type": "execute_result"
    }
   ],
   "source": [
    "DF.iloc[0,:] "
   ]
  },
  {
   "cell_type": "code",
   "execution_count": 25,
   "metadata": {},
   "outputs": [
    {
     "data": {
      "text/plain": [
       "'Glimepiride'"
      ]
     },
     "execution_count": 25,
     "metadata": {},
     "output_type": "execute_result"
    }
   ],
   "source": [
    "#visualice an specific cell\n",
    "DF.loc[1,\"drugs\"]"
   ]
  },
  {
   "cell_type": "code",
   "execution_count": 26,
   "metadata": {},
   "outputs": [],
   "source": [
    "#convert a column to list \n",
    "l = DF.drugs.to_list()"
   ]
  },
  {
   "cell_type": "code",
   "execution_count": 27,
   "metadata": {},
   "outputs": [
    {
     "data": {
      "text/plain": [
       "['Metformine', 'Glimepiride', 'Empaglifozine']"
      ]
     },
     "execution_count": 27,
     "metadata": {},
     "output_type": "execute_result"
    }
   ],
   "source": [
    "l"
   ]
  },
  {
   "cell_type": "code",
   "execution_count": 28,
   "metadata": {},
   "outputs": [],
   "source": [
    "#Load a DF from a .csv file\n",
    "biofacquim = pd.read_csv(\"data/biofacquim.csv\")"
   ]
  },
  {
   "cell_type": "code",
   "execution_count": 29,
   "metadata": {},
   "outputs": [
    {
     "data": {
      "text/html": [
       "<div>\n",
       "<style scoped>\n",
       "    .dataframe tbody tr th:only-of-type {\n",
       "        vertical-align: middle;\n",
       "    }\n",
       "\n",
       "    .dataframe tbody tr th {\n",
       "        vertical-align: top;\n",
       "    }\n",
       "\n",
       "    .dataframe thead th {\n",
       "        text-align: right;\n",
       "    }\n",
       "</style>\n",
       "<table border=\"1\" class=\"dataframe\">\n",
       "  <thead>\n",
       "    <tr style=\"text-align: right;\">\n",
       "      <th></th>\n",
       "      <th>ID</th>\n",
       "      <th>Name</th>\n",
       "      <th>Reference</th>\n",
       "      <th>Year</th>\n",
       "      <th>Kingdom</th>\n",
       "      <th>Genus</th>\n",
       "      <th>Specie</th>\n",
       "      <th>SMILES</th>\n",
       "      <th>DOI</th>\n",
       "      <th>Journal</th>\n",
       "      <th>...</th>\n",
       "      <th>Activity_3</th>\n",
       "      <th>IC50_4</th>\n",
       "      <th>Activity_4</th>\n",
       "      <th>IC50_5</th>\n",
       "      <th>Activity_5</th>\n",
       "      <th>IC50_6</th>\n",
       "      <th>Activity_6</th>\n",
       "      <th>Bioactivity</th>\n",
       "      <th>Bioactivity(2)</th>\n",
       "      <th>Bioactivity(3)</th>\n",
       "    </tr>\n",
       "  </thead>\n",
       "  <tbody>\n",
       "    <tr>\n",
       "      <th>0</th>\n",
       "      <td>FQNP392</td>\n",
       "      <td>Lichexanthone</td>\n",
       "      <td>J_Nat_Prod_2000;63_(10):1396-1399</td>\n",
       "      <td>2000</td>\n",
       "      <td>Fungus</td>\n",
       "      <td>Parmotrema</td>\n",
       "      <td>Parmotrema_tinctorum</td>\n",
       "      <td>O(C)c1cc(O)c2C(=O)c3c(C)cc(OC)cc3Oc2c1</td>\n",
       "      <td>10.1021/np0001326</td>\n",
       "      <td>Journal_of_Natural_Products</td>\n",
       "      <td>...</td>\n",
       "      <td>Seeding_Germination_A_hypochondriacus</td>\n",
       "      <td>&gt;0.002</td>\n",
       "      <td>Seeding_Germination_E_crusgalli</td>\n",
       "      <td>0.000300</td>\n",
       "      <td>Photosynthesis</td>\n",
       "      <td>NaN</td>\n",
       "      <td>NaN</td>\n",
       "      <td>Phytotoxic</td>\n",
       "      <td>NaN</td>\n",
       "      <td>NoBioactivity(3)</td>\n",
       "    </tr>\n",
       "    <tr>\n",
       "      <th>1</th>\n",
       "      <td>FQNP391</td>\n",
       "      <td>Methyl_haematommate</td>\n",
       "      <td>J_Nat_Prod_2000;63_(10):1396-1399</td>\n",
       "      <td>2000</td>\n",
       "      <td>Fungus</td>\n",
       "      <td>Parmotrema</td>\n",
       "      <td>Parmotrema_tinctorum</td>\n",
       "      <td>O=C(OC)c1c(O)c(C=O)c(O)cc1C</td>\n",
       "      <td>10.1021/np0001326</td>\n",
       "      <td>Journal_of_Natural_Products</td>\n",
       "      <td>...</td>\n",
       "      <td>Seeding_Germination_A_hypochondriacus</td>\n",
       "      <td>0.0011</td>\n",
       "      <td>Seeding_Germination_E_crusgalli</td>\n",
       "      <td>0.000300</td>\n",
       "      <td>Photosynthesis</td>\n",
       "      <td>NaN</td>\n",
       "      <td>NaN</td>\n",
       "      <td>Phytotoxic</td>\n",
       "      <td>NaN</td>\n",
       "      <td>NoBioactivity(3)</td>\n",
       "    </tr>\n",
       "    <tr>\n",
       "      <th>2</th>\n",
       "      <td>FQNP393</td>\n",
       "      <td>Methyl_orsellinate</td>\n",
       "      <td>J_Nat_Prod_2000;63_(10):1396-1399</td>\n",
       "      <td>2000</td>\n",
       "      <td>Fungus</td>\n",
       "      <td>Parmotrema</td>\n",
       "      <td>Parmotrema_tinctorum</td>\n",
       "      <td>O=C(OC)c1c(O)cc(O)cc1C</td>\n",
       "      <td>10.1021/np0001326</td>\n",
       "      <td>Journal_of_Natural_Products</td>\n",
       "      <td>...</td>\n",
       "      <td>Seeding_Germination_A_hypochondriacus</td>\n",
       "      <td>0.00068</td>\n",
       "      <td>Seeding_Germination_E_crusgalli</td>\n",
       "      <td>0.000300</td>\n",
       "      <td>Photosynthesis</td>\n",
       "      <td>0.000008</td>\n",
       "      <td>CaM_Dependent_PDE</td>\n",
       "      <td>Phytotoxic</td>\n",
       "      <td>NaN</td>\n",
       "      <td>NoBioactivity(3)</td>\n",
       "    </tr>\n",
       "    <tr>\n",
       "      <th>3</th>\n",
       "      <td>FQNP390</td>\n",
       "      <td>Gyrophoric_acid</td>\n",
       "      <td>J_Nat_Prod_2000;63_(10):1396-1399</td>\n",
       "      <td>2000</td>\n",
       "      <td>Fungus</td>\n",
       "      <td>Parmotrema</td>\n",
       "      <td>Parmotrema_tinctorum</td>\n",
       "      <td>O=C(Oc1cc(O)c(C(=O)O)c(C)c1)c1c(O)cc(OC(=O)c2c...</td>\n",
       "      <td>10.1021/np0001326</td>\n",
       "      <td>Journal_of_Natural_Products</td>\n",
       "      <td>...</td>\n",
       "      <td>Seeding_Germination_A_hypochondriacus</td>\n",
       "      <td>0.002</td>\n",
       "      <td>Seeding_Germination_E_crusgalli</td>\n",
       "      <td>0.000087</td>\n",
       "      <td>Photosynthesis</td>\n",
       "      <td>0.000060</td>\n",
       "      <td>Proton_Uptake</td>\n",
       "      <td>Phytotoxic</td>\n",
       "      <td>NaN</td>\n",
       "      <td>NoBioactivity(3)</td>\n",
       "    </tr>\n",
       "    <tr>\n",
       "      <th>4</th>\n",
       "      <td>FQNP389</td>\n",
       "      <td>Lecanorin</td>\n",
       "      <td>J_Nat_Prod_2000;63_(10):1396-1399</td>\n",
       "      <td>2000</td>\n",
       "      <td>Fungus</td>\n",
       "      <td>Parmotrema</td>\n",
       "      <td>Parmotrema_tinctorum</td>\n",
       "      <td>O=C(Oc1cc(O)cc(C)c1)c1c(O)cc(O)cc1C</td>\n",
       "      <td>10.1021/np0001326</td>\n",
       "      <td>Journal_of_Natural_Products</td>\n",
       "      <td>...</td>\n",
       "      <td>Seeding_Germination_A_hypochondriacus</td>\n",
       "      <td>0.00071</td>\n",
       "      <td>Seeding_Germination_E_crusgalli</td>\n",
       "      <td>0.000136</td>\n",
       "      <td>Photosynthesis</td>\n",
       "      <td>0.000140</td>\n",
       "      <td>Proton_Uptake</td>\n",
       "      <td>Phytotoxic</td>\n",
       "      <td>NaN</td>\n",
       "      <td>NoBioactivity(3)</td>\n",
       "    </tr>\n",
       "  </tbody>\n",
       "</table>\n",
       "<p>5 rows × 27 columns</p>\n",
       "</div>"
      ],
      "text/plain": [
       "        ID                 Name                          Reference  Year  \\\n",
       "0  FQNP392        Lichexanthone  J_Nat_Prod_2000;63_(10):1396-1399  2000   \n",
       "1  FQNP391  Methyl_haematommate  J_Nat_Prod_2000;63_(10):1396-1399  2000   \n",
       "2  FQNP393   Methyl_orsellinate  J_Nat_Prod_2000;63_(10):1396-1399  2000   \n",
       "3  FQNP390      Gyrophoric_acid  J_Nat_Prod_2000;63_(10):1396-1399  2000   \n",
       "4  FQNP389            Lecanorin  J_Nat_Prod_2000;63_(10):1396-1399  2000   \n",
       "\n",
       "  Kingdom       Genus                Specie  \\\n",
       "0  Fungus  Parmotrema  Parmotrema_tinctorum   \n",
       "1  Fungus  Parmotrema  Parmotrema_tinctorum   \n",
       "2  Fungus  Parmotrema  Parmotrema_tinctorum   \n",
       "3  Fungus  Parmotrema  Parmotrema_tinctorum   \n",
       "4  Fungus  Parmotrema  Parmotrema_tinctorum   \n",
       "\n",
       "                                              SMILES                DOI  \\\n",
       "0             O(C)c1cc(O)c2C(=O)c3c(C)cc(OC)cc3Oc2c1  10.1021/np0001326   \n",
       "1                        O=C(OC)c1c(O)c(C=O)c(O)cc1C  10.1021/np0001326   \n",
       "2                             O=C(OC)c1c(O)cc(O)cc1C  10.1021/np0001326   \n",
       "3  O=C(Oc1cc(O)c(C(=O)O)c(C)c1)c1c(O)cc(OC(=O)c2c...  10.1021/np0001326   \n",
       "4                O=C(Oc1cc(O)cc(C)c1)c1c(O)cc(O)cc1C  10.1021/np0001326   \n",
       "\n",
       "                       Journal  ...                             Activity_3  \\\n",
       "0  Journal_of_Natural_Products  ...  Seeding_Germination_A_hypochondriacus   \n",
       "1  Journal_of_Natural_Products  ...  Seeding_Germination_A_hypochondriacus   \n",
       "2  Journal_of_Natural_Products  ...  Seeding_Germination_A_hypochondriacus   \n",
       "3  Journal_of_Natural_Products  ...  Seeding_Germination_A_hypochondriacus   \n",
       "4  Journal_of_Natural_Products  ...  Seeding_Germination_A_hypochondriacus   \n",
       "\n",
       "    IC50_4                       Activity_4    IC50_5      Activity_5  \\\n",
       "0   >0.002  Seeding_Germination_E_crusgalli  0.000300  Photosynthesis   \n",
       "1   0.0011  Seeding_Germination_E_crusgalli  0.000300  Photosynthesis   \n",
       "2  0.00068  Seeding_Germination_E_crusgalli  0.000300  Photosynthesis   \n",
       "3    0.002  Seeding_Germination_E_crusgalli  0.000087  Photosynthesis   \n",
       "4  0.00071  Seeding_Germination_E_crusgalli  0.000136  Photosynthesis   \n",
       "\n",
       "     IC50_6         Activity_6 Bioactivity Bioactivity(2)     Bioactivity(3)  \n",
       "0       NaN                NaN  Phytotoxic            NaN   NoBioactivity(3)  \n",
       "1       NaN                NaN  Phytotoxic            NaN   NoBioactivity(3)  \n",
       "2  0.000008  CaM_Dependent_PDE  Phytotoxic            NaN   NoBioactivity(3)  \n",
       "3  0.000060      Proton_Uptake  Phytotoxic            NaN   NoBioactivity(3)  \n",
       "4  0.000140      Proton_Uptake  Phytotoxic            NaN   NoBioactivity(3)  \n",
       "\n",
       "[5 rows x 27 columns]"
      ]
     },
     "execution_count": 29,
     "metadata": {},
     "output_type": "execute_result"
    }
   ],
   "source": [
    "biofacquim.head(5)"
   ]
  },
  {
   "cell_type": "code",
   "execution_count": null,
   "metadata": {},
   "outputs": [],
   "source": []
  }
 ],
 "metadata": {
  "kernelspec": {
   "display_name": "Python 3",
   "language": "python",
   "name": "python3"
  },
  "language_info": {
   "codemirror_mode": {
    "name": "ipython",
    "version": 3
   },
   "file_extension": ".py",
   "mimetype": "text/x-python",
   "name": "python",
   "nbconvert_exporter": "python",
   "pygments_lexer": "ipython3",
   "version": "3.7.3"
  }
 },
 "nbformat": 4,
 "nbformat_minor": 2
}
